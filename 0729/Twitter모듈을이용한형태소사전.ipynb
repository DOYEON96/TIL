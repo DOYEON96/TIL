{
 "cells": [
  {
   "cell_type": "markdown",
   "source": [
    "## 기존 형태소 분석\r\n",
    "- konlpy.tag 모듈에서 Okt, Kkma, ...이용\r\n",
    "- konlpy에서 제공하는 토픽을 기준으로 형태소 구분"
   ],
   "metadata": {}
  },
  {
   "cell_type": "code",
   "execution_count": 11,
   "source": [
    "from konlpy.tag import Okt\r\n",
    "\r\n",
    "okt = Okt()\r\n",
    "pos = okt.pos('산에 가서 스마트폰으로 인스타그램에 산 풍경을 올렸습니다~ #산스타그램 #럽스타그램')\r\n",
    "print(pos)"
   ],
   "outputs": [
    {
     "output_type": "stream",
     "name": "stdout",
     "text": [
      "[('산', 'Noun'), ('에', 'Josa'), ('가서', 'Verb'), ('스마트폰', 'Noun'), ('으로', 'Josa'), ('인스타그램', 'Noun'), ('에', 'Josa'), ('산', 'Noun'), ('풍경', 'Noun'), ('을', 'Josa'), ('올렸습니다', 'Verb'), ('~', 'Punctuation'), ('#산스타그램', 'Hashtag'), ('#럽스타그램', 'Hashtag')]\n"
     ]
    }
   ],
   "metadata": {}
  },
  {
   "cell_type": "code",
   "execution_count": null,
   "source": [
    "from ckonlpy.tag import Twitter\r\n",
    "# customized konlpy 참고 : https://github.com/lovit/customized_konlpy\r\n",
    "\r\n",
    "twitter = Twitter()\r\n",
    "twitter.pos('산에 가서 스마트폰으로 인스타그램에 산 풍경을 올렸습니다~ #산스타그램 #럽스타그램')"
   ],
   "outputs": [],
   "metadata": {}
  },
  {
   "cell_type": "code",
   "execution_count": 2,
   "source": [
    "# Twitter 사전에 단어추가\r\n",
    "#\r\n",
    "\r\n",
    "twitter.add_dictionary('스타그램', 'Noun')"
   ],
   "outputs": [],
   "metadata": {}
  },
  {
   "cell_type": "code",
   "execution_count": 3,
   "source": [
    "from ckonlpy.tag import Twitter\r\n",
    "\r\n",
    "twitter = Twitter()\r\n",
    "twitter.pos('산에 가서 스마트폰으로 인스타그램에 산 풍경을 올렸습니다~ #산스타그램 #럽스타그램')"
   ],
   "outputs": [
    {
     "output_type": "execute_result",
     "data": {
      "text/plain": [
       "[('산', 'Noun'),\n",
       " ('에', 'Josa'),\n",
       " ('가서', 'Verb'),\n",
       " ('스마트폰', 'Noun'),\n",
       " ('으로', 'Josa'),\n",
       " ('인스타그램', 'Noun'),\n",
       " ('에', 'Josa'),\n",
       " ('산', 'Noun'),\n",
       " ('풍경', 'Noun'),\n",
       " ('을', 'Josa'),\n",
       " ('올렸습니다', 'Verb'),\n",
       " ('~', 'Punctuation'),\n",
       " ('#산', 'Hashtag'),\n",
       " ('스타', 'Noun'),\n",
       " ('그램', 'Noun'),\n",
       " ('#럽', 'Hashtag'),\n",
       " ('스타', 'Noun'),\n",
       " ('그램', 'Noun')]"
      ]
     },
     "metadata": {},
     "execution_count": 3
    }
   ],
   "metadata": {}
  }
 ],
 "metadata": {
  "orig_nbformat": 4,
  "language_info": {
   "name": "python",
   "version": "3.8.7",
   "mimetype": "text/x-python",
   "codemirror_mode": {
    "name": "ipython",
    "version": 3
   },
   "pygments_lexer": "ipython3",
   "nbconvert_exporter": "python",
   "file_extension": ".py"
  },
  "kernelspec": {
   "name": "python3",
   "display_name": "Python 3.8.7 64-bit"
  },
  "interpreter": {
   "hash": "2db524e06e9f5f4ffedc911c917cb75e12dbc923643829bf417064a77eb14d37"
  }
 },
 "nbformat": 4,
 "nbformat_minor": 2
}