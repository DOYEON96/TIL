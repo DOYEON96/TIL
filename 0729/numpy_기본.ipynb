{
 "cells": [
  {
   "cell_type": "markdown",
   "source": [
    "## NumPy 특징\r\n",
    "- 과학기술 계산을 위한 라이브러리를 제공\r\n",
    "- 벡터/행렬/배열 처리 및 연산, 난수 발생\r\n",
    "- 파일관리(txt, csv 등 파일 읽기/쓰기)\r\n",
    "- 리스트형 데이터와 유사하지만 numpy는 배열의 특징을 가짐\r\n",
    "- 모든 원소는 동일한 자료형이어야 한다.\r\n",
    "- 원소들 중 다른 자료형이 있다면 가장 큰 자료형으로 변경됨\r\n",
    "- 계산 속도가 빠르다.\r\n",
    "- 벡터 연산, 배열 인덱싱 등을 통해 질의 가능"
   ],
   "metadata": {}
  },
  {
   "cell_type": "code",
   "execution_count": 4,
   "source": [
    "import numpy as np"
   ],
   "outputs": [],
   "metadata": {}
  },
  {
   "cell_type": "code",
   "execution_count": 5,
   "source": [
    "lst = [1, 2, 3, 4, 5, 6]\r\n",
    "lst2 = []\r\n",
    "for i in lst:\r\n",
    "    lst2.append(i*2)\r\n",
    "lst2"
   ],
   "outputs": [
    {
     "output_type": "execute_result",
     "data": {
      "text/plain": [
       "[2, 4, 6, 8, 10, 12]"
      ]
     },
     "metadata": {},
     "execution_count": 5
    }
   ],
   "metadata": {}
  },
  {
   "cell_type": "code",
   "execution_count": 8,
   "source": [
    "arr_lst = np.array(lst)\r\n",
    "print(arr_lst)"
   ],
   "outputs": [
    {
     "output_type": "stream",
     "name": "stdout",
     "text": [
      "[1 2 3 4 5 6]\n"
     ]
    }
   ],
   "metadata": {}
  },
  {
   "cell_type": "code",
   "execution_count": 9,
   "source": [
    "# numpy 연산\r\n",
    "\r\n",
    "arr1 = np.array([1, 2, 3])\r\n",
    "arr2 = np.array([10, 20, 30])\r\n",
    "\r\n",
    "print(arr1 + arr2)\r\n",
    "print(arr2 >= 20)"
   ],
   "outputs": [
    {
     "output_type": "stream",
     "name": "stdout",
     "text": [
      "[11 22 33]\n",
      "[False  True  True]\n"
     ]
    }
   ],
   "metadata": {}
  },
  {
   "cell_type": "code",
   "execution_count": 10,
   "source": [
    "# 2차원 배열 구조\r\n",
    "import pandas as pd\r\n",
    "\r\n",
    "lst = [[0,0,1], [8,12,33]]\r\n",
    "print(lst[0])\r\n",
    "print(lst[1])\r\n",
    "\r\n",
    "df = pd.DataFrame(lst)\r\n",
    "print(df.shape)"
   ],
   "outputs": [
    {
     "output_type": "stream",
     "name": "stdout",
     "text": [
      "[0, 0, 1]\n",
      "[8, 12, 33]\n",
      "(2, 3)\n"
     ]
    }
   ],
   "metadata": {}
  },
  {
   "cell_type": "code",
   "execution_count": 11,
   "source": [
    "arr = np.array(lst)\r\n",
    "print(lst)\r\n",
    "print(arr)"
   ],
   "outputs": [
    {
     "output_type": "stream",
     "name": "stdout",
     "text": [
      "[[0, 0, 1], [8, 12, 33]]\n",
      "[[ 0  0  1]\n",
      " [ 8 12 33]]\n"
     ]
    }
   ],
   "metadata": {}
  },
  {
   "cell_type": "code",
   "execution_count": 13,
   "source": [
    "print(len(lst))\r\n",
    "print(len(arr))\r\n",
    "\r\n",
    "print(len(lst[0]))\r\n",
    "print(len(arr[0]))"
   ],
   "outputs": [
    {
     "output_type": "stream",
     "name": "stdout",
     "text": [
      "2\n",
      "2\n",
      "3\n",
      "3\n"
     ]
    }
   ],
   "metadata": {}
  },
  {
   "cell_type": "code",
   "execution_count": 15,
   "source": [
    "lst = [[0,0,1,1], [8, 12, 33]]\r\n",
    "arr = np.array(lst)\r\n",
    "arr"
   ],
   "outputs": [
    {
     "output_type": "stream",
     "name": "stderr",
     "text": [
      "C:\\Users\\김도연\\AppData\\Local\\Temp/ipykernel_33624/2843499642.py:2: VisibleDeprecationWarning: Creating an ndarray from ragged nested sequences (which is a list-or-tuple of lists-or-tuples-or ndarrays with different lengths or shapes) is deprecated. If you meant to do this, you must specify 'dtype=object' when creating the ndarray\n",
      "  arr = np.array(lst)\n"
     ]
    },
    {
     "output_type": "execute_result",
     "data": {
      "text/plain": [
       "array([list([0, 0, 1, 1]), list([8, 12, 33])], dtype=object)"
      ]
     },
     "metadata": {},
     "execution_count": 15
    }
   ],
   "metadata": {}
  },
  {
   "cell_type": "code",
   "execution_count": 16,
   "source": [
    "# 3차원 배열\r\n",
    "lst = [[[10, 20, 30]]]\r\n",
    "arr = np.array(lst)\r\n",
    "print(arr.shape)\r\n",
    "print(arr)"
   ],
   "outputs": [
    {
     "output_type": "stream",
     "name": "stdout",
     "text": [
      "(1, 1, 3)\n",
      "[[[10 20 30]]]\n"
     ]
    }
   ],
   "metadata": {}
  },
  {
   "cell_type": "code",
   "execution_count": 18,
   "source": [
    "lst=[[[10,20,30],[15, 25, 35]], [[1., 2., 3.],[12, 13., '15']]]\r\n",
    "arr = np.array(lst)\r\n",
    "print(arr.shape)\r\n",
    "print(arr)"
   ],
   "outputs": [
    {
     "output_type": "stream",
     "name": "stdout",
     "text": [
      "(2, 2, 3)\n",
      "[[['10' '20' '30']\n",
      "  ['15' '25' '35']]\n",
      "\n",
      " [['1.0' '2.0' '3.0']\n",
      "  ['12' '13.0' '15']]]\n"
     ]
    }
   ],
   "metadata": {}
  },
  {
   "cell_type": "code",
   "execution_count": 21,
   "source": [
    "from sys import getsizeof\r\n",
    "\r\n",
    "a = 1;b = 1.;c = '1'\r\n",
    "\r\n",
    "print(getsizeof(a))\r\n",
    "print(getsizeof(b))\r\n",
    "print(getsizeof(c))"
   ],
   "outputs": [
    {
     "output_type": "stream",
     "name": "stdout",
     "text": [
      "28\n",
      "24\n",
      "50\n"
     ]
    }
   ],
   "metadata": {}
  },
  {
   "cell_type": "code",
   "execution_count": 22,
   "source": [
    "# 배열구조 데이터 인덱싱\r\n",
    "\r\n",
    "arr=np.array([10,20,30,40,50])\r\n",
    "print(arr[0])\r\n",
    "print(arr[-1])\r\n",
    "print(arr[2])"
   ],
   "outputs": [
    {
     "output_type": "stream",
     "name": "stdout",
     "text": [
      "10\n",
      "50\n",
      "30\n"
     ]
    }
   ],
   "metadata": {}
  },
  {
   "cell_type": "code",
   "execution_count": 28,
   "source": [
    "arr = np.array([[10, 20, 30, 40, 50], [15, 25, 35, 45, 55]])\r\n",
    "print(arr[0])       # 첫번쨰 행 전체\r\n",
    "print(arr[-1])      # 마지막행 전체\r\n",
    "print(arr[0, 0])    # 첫번쨰 행의 첫번쨰 열\r\n",
    "print(arr[-1, 1])   # 마지막 행의 세번째 열\r\n"
   ],
   "outputs": [
    {
     "output_type": "stream",
     "name": "stdout",
     "text": [
      "[10 20 30 40 50]\n",
      "[15 25 35 45 55]\n",
      "10\n",
      "25\n"
     ]
    }
   ],
   "metadata": {}
  },
  {
   "cell_type": "code",
   "execution_count": null,
   "source": [
    "# 3차원 배열의 인덱싱\r\n",
    "\r\n",
    "arr = np.array([[[10,20,30],[15, 25, 35]], [[1., 2., 3.],[12, 13., 15]]])\r\n",
    "print(arr.shape)\r\n",
    "print(arr, '\\n')"
   ],
   "outputs": [],
   "metadata": {}
  },
  {
   "cell_type": "code",
   "execution_count": 35,
   "source": [
    "print(arr[0], '\\n')\r\n",
    "print(arr[-1], '\\n')\r\n",
    "print(arr[0,0], '\\n')\r\n",
    "print(arr[-1, 1], '\\n')"
   ],
   "outputs": [
    {
     "output_type": "stream",
     "name": "stdout",
     "text": [
      "[[10. 20. 30.]\n",
      " [15. 25. 35.]] \n",
      "\n",
      "[[ 1.  2.  3.]\n",
      " [12. 13. 15.]] \n",
      "\n",
      "[10. 20. 30.] \n",
      "\n",
      "[12. 13. 15.] \n",
      "\n"
     ]
    }
   ],
   "metadata": {}
  },
  {
   "cell_type": "code",
   "execution_count": 36,
   "source": [
    "# boolean 배열 방식을 이용한 인덱싱\r\n",
    "\r\n",
    "arr = np.arange(10)\r\n",
    "arr"
   ],
   "outputs": [
    {
     "output_type": "execute_result",
     "data": {
      "text/plain": [
       "array([0, 1, 2, 3, 4, 5, 6, 7, 8, 9])"
      ]
     },
     "metadata": {},
     "execution_count": 36
    }
   ],
   "metadata": {}
  },
  {
   "cell_type": "code",
   "execution_count": 38,
   "source": [
    "atf = np.array([True, False, True, False, True, False, True, False, True, False])\r\n",
    "arr[atf]"
   ],
   "outputs": [
    {
     "output_type": "execute_result",
     "data": {
      "text/plain": [
       "array([0, 2, 4, 6, 8])"
      ]
     },
     "metadata": {},
     "execution_count": 38
    }
   ],
   "metadata": {}
  },
  {
   "cell_type": "code",
   "execution_count": null,
   "source": [
    "# 배열생성/구조변경"
   ],
   "outputs": [],
   "metadata": {}
  },
  {
   "cell_type": "code",
   "execution_count": 40,
   "source": [
    "arr = np.array([15, 25, 35, 45], dtype='f')\r\n",
    "arr.dtype"
   ],
   "outputs": [
    {
     "output_type": "execute_result",
     "data": {
      "text/plain": [
       "dtype('float32')"
      ]
     },
     "metadata": {},
     "execution_count": 40
    }
   ],
   "metadata": {}
  },
  {
   "cell_type": "code",
   "execution_count": 41,
   "source": [
    "arr[1] = 28\r\n",
    "arr"
   ],
   "outputs": [
    {
     "output_type": "execute_result",
     "data": {
      "text/plain": [
       "array([15., 28., 35., 45.], dtype=float32)"
      ]
     },
     "metadata": {},
     "execution_count": 41
    }
   ],
   "metadata": {}
  },
  {
   "cell_type": "code",
   "execution_count": 44,
   "source": [
    "arr = np.arange(1, 10 , 2)\r\n",
    "arr.dtype"
   ],
   "outputs": [
    {
     "output_type": "execute_result",
     "data": {
      "text/plain": [
       "dtype('int32')"
      ]
     },
     "metadata": {},
     "execution_count": 44
    }
   ],
   "metadata": {}
  },
  {
   "cell_type": "code",
   "execution_count": 47,
   "source": [
    "arr = np.logspace(0.1, 1, 10)\r\n",
    "arr"
   ],
   "outputs": [
    {
     "output_type": "execute_result",
     "data": {
      "text/plain": [
       "array([ 1.25892541,  1.58489319,  1.99526231,  2.51188643,  3.16227766,\n",
       "        3.98107171,  5.01187234,  6.30957344,  7.94328235, 10.        ])"
      ]
     },
     "metadata": {},
     "execution_count": 47
    }
   ],
   "metadata": {}
  },
  {
   "cell_type": "code",
   "execution_count": 48,
   "source": [
    "arr = np.linspace(0, 100, 5)\r\n",
    "arr"
   ],
   "outputs": [
    {
     "output_type": "execute_result",
     "data": {
      "text/plain": [
       "array([  0.,  25.,  50.,  75., 100.])"
      ]
     },
     "metadata": {},
     "execution_count": 48
    }
   ],
   "metadata": {}
  },
  {
   "cell_type": "code",
   "execution_count": 51,
   "source": [
    "# 배열 데이터 변경\r\n",
    "\r\n",
    "arr = np.array([1, 2, 3, 4, 5, 6, 7, 8, 9, 10])\r\n",
    "\r\n",
    "arr_res = arr.reshape(2, 5) # 배열 구조 변경 \r\n",
    "arr_res"
   ],
   "outputs": [
    {
     "output_type": "execute_result",
     "data": {
      "text/plain": [
       "array([[ 1,  2,  3,  4,  5],\n",
       "       [ 6,  7,  8,  9, 10]])"
      ]
     },
     "metadata": {},
     "execution_count": 51
    }
   ],
   "metadata": {}
  },
  {
   "cell_type": "code",
   "execution_count": 52,
   "source": [
    "arr = np.arange(1, 51)\r\n",
    "arr_res = arr.reshape(-1, 5)\r\n",
    "arr_res"
   ],
   "outputs": [
    {
     "output_type": "execute_result",
     "data": {
      "text/plain": [
       "array([[ 1,  2,  3,  4,  5],\n",
       "       [ 6,  7,  8,  9, 10],\n",
       "       [11, 12, 13, 14, 15],\n",
       "       [16, 17, 18, 19, 20],\n",
       "       [21, 22, 23, 24, 25],\n",
       "       [26, 27, 28, 29, 30],\n",
       "       [31, 32, 33, 34, 35],\n",
       "       [36, 37, 38, 39, 40],\n",
       "       [41, 42, 43, 44, 45],\n",
       "       [46, 47, 48, 49, 50]])"
      ]
     },
     "metadata": {},
     "execution_count": 52
    }
   ],
   "metadata": {}
  },
  {
   "cell_type": "code",
   "execution_count": 68,
   "source": [
    "arr = np.arange(1, 55)\r\n",
    "arr_res = arr.reshape(6, -1)\r\n",
    "arr_res"
   ],
   "outputs": [
    {
     "output_type": "execute_result",
     "data": {
      "text/plain": [
       "array([[ 1,  2,  3,  4,  5,  6,  7,  8,  9],\n",
       "       [10, 11, 12, 13, 14, 15, 16, 17, 18],\n",
       "       [19, 20, 21, 22, 23, 24, 25, 26, 27],\n",
       "       [28, 29, 30, 31, 32, 33, 34, 35, 36],\n",
       "       [37, 38, 39, 40, 41, 42, 43, 44, 45],\n",
       "       [46, 47, 48, 49, 50, 51, 52, 53, 54]])"
      ]
     },
     "metadata": {},
     "execution_count": 68
    }
   ],
   "metadata": {}
  },
  {
   "cell_type": "code",
   "execution_count": 76,
   "source": [
    "arr_res = arr.reshape(-1, 3, 6)\r\n",
    "arr_res"
   ],
   "outputs": [
    {
     "output_type": "execute_result",
     "data": {
      "text/plain": [
       "array([[[ 1,  2,  3,  4,  5,  6],\n",
       "        [ 7,  8,  9, 10, 11, 12],\n",
       "        [13, 14, 15, 16, 17, 18]],\n",
       "\n",
       "       [[19, 20, 21, 22, 23, 24],\n",
       "        [25, 26, 27, 28, 29, 30],\n",
       "        [31, 32, 33, 34, 35, 36]],\n",
       "\n",
       "       [[37, 38, 39, 40, 41, 42],\n",
       "        [43, 44, 45, 46, 47, 48],\n",
       "        [49, 50, 51, 52, 53, 54]]])"
      ]
     },
     "metadata": {},
     "execution_count": 76
    }
   ],
   "metadata": {}
  },
  {
   "cell_type": "markdown",
   "source": [
    "# 브로드캐스팅 & 마스킹\r\n",
    "- 하나의 배열 or 요소가 어떤 특정 배열에 영향을 미칠 때 배열간의 형상을 맞추는 것을 브로드 캐스팅이라고 함"
   ],
   "metadata": {}
  },
  {
   "cell_type": "code",
   "execution_count": 88,
   "source": [
    "arr = np.arange(1, 101)\r\n",
    "# arr\r\n",
    "idx = arr%2==0\r\n",
    "\r\n",
    "# print(arr[idx]\r\n",
    "arr[idx] = 100\r\n",
    "arr"
   ],
   "outputs": [
    {
     "output_type": "execute_result",
     "data": {
      "text/plain": [
       "array([  1, 100,   3, 100,   5, 100,   7, 100,   9, 100,  11, 100,  13,\n",
       "       100,  15, 100,  17, 100,  19, 100,  21, 100,  23, 100,  25, 100,\n",
       "        27, 100,  29, 100,  31, 100,  33, 100,  35, 100,  37, 100,  39,\n",
       "       100,  41, 100,  43, 100,  45, 100,  47, 100,  49, 100,  51, 100,\n",
       "        53, 100,  55, 100,  57, 100,  59, 100,  61, 100,  63, 100,  65,\n",
       "       100,  67, 100,  69, 100,  71, 100,  73, 100,  75, 100,  77, 100,\n",
       "        79, 100,  81, 100,  83, 100,  85, 100,  87, 100,  89, 100,  91,\n",
       "       100,  93, 100,  95, 100,  97, 100,  99, 100])"
      ]
     },
     "metadata": {},
     "execution_count": 88
    }
   ],
   "metadata": {}
  },
  {
   "cell_type": "markdown",
   "source": [
    "# Numpy에서 파일 읽고 쓰기"
   ],
   "metadata": {}
  },
  {
   "cell_type": "code",
   "execution_count": 1,
   "source": [
    "with open('c:/pythonworkspace/multi/0729/data/test.txt', encoding = 'utf-8') as f:\r\n",
    "    csv_data = []\r\n",
    "    for line in f.readlines():\r\n",
    "        csv_data.append(line.split(','))\r\n",
    "print('csv_data', '\\n', csv_data)"
   ],
   "outputs": [
    {
     "output_type": "stream",
     "name": "stdout",
     "text": [
      "csv_data \n",
      " [['a', '10\\n'], ['b', '25\\n'], ['c', '48\\n'], ['d', '55\\n'], ['e', '84\\n'], ['f', '55\\n'], ['g', '88']]\n"
     ]
    }
   ],
   "metadata": {}
  },
  {
   "cell_type": "code",
   "execution_count": 93,
   "source": [
    "df = pd.read_csv('c:/pythonworkspace/multi/0729/data/test.txt', encoding='utf-8', names=['이름', '값'])\r\n",
    "df"
   ],
   "outputs": [
    {
     "output_type": "execute_result",
     "data": {
      "text/plain": [
       "  이름   값\n",
       "0  a  10\n",
       "1  b  25\n",
       "2  c  48\n",
       "3  d  55\n",
       "4  e  84\n",
       "5  f  55\n",
       "6  g  88"
      ],
      "text/html": [
       "<div>\n",
       "<style scoped>\n",
       "    .dataframe tbody tr th:only-of-type {\n",
       "        vertical-align: middle;\n",
       "    }\n",
       "\n",
       "    .dataframe tbody tr th {\n",
       "        vertical-align: top;\n",
       "    }\n",
       "\n",
       "    .dataframe thead th {\n",
       "        text-align: right;\n",
       "    }\n",
       "</style>\n",
       "<table border=\"1\" class=\"dataframe\">\n",
       "  <thead>\n",
       "    <tr style=\"text-align: right;\">\n",
       "      <th></th>\n",
       "      <th>이름</th>\n",
       "      <th>값</th>\n",
       "    </tr>\n",
       "  </thead>\n",
       "  <tbody>\n",
       "    <tr>\n",
       "      <th>0</th>\n",
       "      <td>a</td>\n",
       "      <td>10</td>\n",
       "    </tr>\n",
       "    <tr>\n",
       "      <th>1</th>\n",
       "      <td>b</td>\n",
       "      <td>25</td>\n",
       "    </tr>\n",
       "    <tr>\n",
       "      <th>2</th>\n",
       "      <td>c</td>\n",
       "      <td>48</td>\n",
       "    </tr>\n",
       "    <tr>\n",
       "      <th>3</th>\n",
       "      <td>d</td>\n",
       "      <td>55</td>\n",
       "    </tr>\n",
       "    <tr>\n",
       "      <th>4</th>\n",
       "      <td>e</td>\n",
       "      <td>84</td>\n",
       "    </tr>\n",
       "    <tr>\n",
       "      <th>5</th>\n",
       "      <td>f</td>\n",
       "      <td>55</td>\n",
       "    </tr>\n",
       "    <tr>\n",
       "      <th>6</th>\n",
       "      <td>g</td>\n",
       "      <td>88</td>\n",
       "    </tr>\n",
       "  </tbody>\n",
       "</table>\n",
       "</div>"
      ]
     },
     "metadata": {},
     "execution_count": 93
    }
   ],
   "metadata": {}
  },
  {
   "cell_type": "code",
   "execution_count": 95,
   "source": [
    "np_data = np.loadtxt('c:/pythonworkspace/multi/0729/data/test.txt', dtype = 'str' ,delimiter=',')\r\n",
    "np_da"
   ],
   "outputs": [
    {
     "output_type": "execute_result",
     "data": {
      "text/plain": [
       "array([['a', '10'],\n",
       "       ['b', '25'],\n",
       "       ['c', '48'],\n",
       "       ['d', '55'],\n",
       "       ['e', '84'],\n",
       "       ['f', '55'],\n",
       "       ['g', '88']], dtype='<U2')"
      ]
     },
     "metadata": {},
     "execution_count": 95
    }
   ],
   "metadata": {}
  },
  {
   "cell_type": "markdown",
   "source": [
    "# NaN 변경하기"
   ],
   "metadata": {}
  },
  {
   "cell_type": "code",
   "execution_count": 97,
   "source": [
    "arr = np.array([5, 6, np.NAN])\r\n",
    "arr.dtype"
   ],
   "outputs": [
    {
     "output_type": "execute_result",
     "data": {
      "text/plain": [
       "dtype('float64')"
      ]
     },
     "metadata": {},
     "execution_count": 97
    }
   ],
   "metadata": {}
  },
  {
   "cell_type": "code",
   "execution_count": 98,
   "source": [
    "np.isnan(arr)"
   ],
   "outputs": [
    {
     "output_type": "execute_result",
     "data": {
      "text/plain": [
       "array([False, False,  True])"
      ]
     },
     "metadata": {},
     "execution_count": 98
    }
   ],
   "metadata": {}
  },
  {
   "cell_type": "code",
   "execution_count": 100,
   "source": [
    "np.nan_to_num(arr)"
   ],
   "outputs": [
    {
     "output_type": "execute_result",
     "data": {
      "text/plain": [
       "array([5., 6., 0.])"
      ]
     },
     "metadata": {},
     "execution_count": 100
    }
   ],
   "metadata": {}
  },
  {
   "cell_type": "code",
   "execution_count": 101,
   "source": [
    "np.nanmean(arr)"
   ],
   "outputs": [
    {
     "output_type": "execute_result",
     "data": {
      "text/plain": [
       "5.5"
      ]
     },
     "metadata": {},
     "execution_count": 101
    }
   ],
   "metadata": {}
  },
  {
   "cell_type": "code",
   "execution_count": 109,
   "source": [
    "arr[np.isnan(arr)] = np.nanmean(arr)\r\n",
    "arr"
   ],
   "outputs": [
    {
     "output_type": "execute_result",
     "data": {
      "text/plain": [
       "array([5. , 6. , 5.5])"
      ]
     },
     "metadata": {},
     "execution_count": 109
    }
   ],
   "metadata": {}
  },
  {
   "cell_type": "markdown",
   "source": [
    "# 행렬 데이터의 결합, concatenate 함수"
   ],
   "metadata": {}
  },
  {
   "cell_type": "code",
   "execution_count": 121,
   "source": [
    "arr1 = np.random.randint(10, size=(2, 3))\r\n",
    "arr2 = np.random.randint(10, size=(3, 2))\r\n",
    "arr3 = np.random.randint(10, size=(3, 3))\r\n",
    "\r\n",
    "print(arr1)\r\n",
    "print(arr2)\r\n",
    "print(arr3)"
   ],
   "outputs": [
    {
     "output_type": "stream",
     "name": "stdout",
     "text": [
      "[[9 1 8]\n",
      " [1 7 4]]\n",
      "[[8 4]\n",
      " [0 9]\n",
      " [7 4]]\n",
      "[[7 5 7]\n",
      " [4 0 1]\n",
      " [4 3 3]]\n"
     ]
    }
   ],
   "metadata": {}
  },
  {
   "cell_type": "markdown",
   "source": [
    "concatenate : 기본 세로결합\r\n",
    "- np.concatenate((a, b))"
   ],
   "metadata": {}
  },
  {
   "cell_type": "code",
   "execution_count": 122,
   "source": [
    "np.concatenate((arr2, arr3), axis=1)"
   ],
   "outputs": [
    {
     "output_type": "execute_result",
     "data": {
      "text/plain": [
       "array([[8, 4, 7, 5, 7],\n",
       "       [0, 9, 4, 0, 1],\n",
       "       [7, 4, 4, 3, 3]])"
      ]
     },
     "metadata": {},
     "execution_count": 122
    }
   ],
   "metadata": {}
  },
  {
   "cell_type": "code",
   "execution_count": null,
   "source": [],
   "outputs": [],
   "metadata": {}
  }
 ],
 "metadata": {
  "orig_nbformat": 4,
  "language_info": {
   "name": "python",
   "version": "3.8.7",
   "mimetype": "text/x-python",
   "codemirror_mode": {
    "name": "ipython",
    "version": 3
   },
   "pygments_lexer": "ipython3",
   "nbconvert_exporter": "python",
   "file_extension": ".py"
  },
  "kernelspec": {
   "name": "python3",
   "display_name": "Python 3.8.7 64-bit"
  },
  "interpreter": {
   "hash": "2db524e06e9f5f4ffedc911c917cb75e12dbc923643829bf417064a77eb14d37"
  }
 },
 "nbformat": 4,
 "nbformat_minor": 2
}