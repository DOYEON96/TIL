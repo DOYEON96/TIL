{
 "cells": [
  {
   "cell_type": "code",
   "execution_count": 42,
   "source": [
    "import os\r\n",
    "import cv2\r\n",
    "import numpy as np\r\n",
    "import matplotlib.pyplot as plt"
   ],
   "outputs": [],
   "metadata": {}
  },
  {
   "cell_type": "code",
   "execution_count": 92,
   "source": [
    "def img_resize(img, i):\r\n",
    "    shape = img.shape\r\n",
    "    height = int(shape[0]/2)\r\n",
    "    width = int(shape[1]/2)\r\n",
    "    \r\n",
    "    img = cv2.resize(img, (width, height))\r\n",
    "    \r\n",
    "    if os.path.isdir('c:/pythonworkspace/multi/0802/data/img_new'):\r\n",
    "        cv2.imwrite(f'c:/pythonworkspace/multi/0802/data/img_new/dog{str(i)}.jpg', img)\r\n",
    "    else:\r\n",
    "        os.mkdir('c:/pythonworkspace/multi/0802/data/img_new')\r\n",
    "        cv2.imwrite(f'c:/pythonworkspace/multi/0802/data/img_new/dog{str(i)}.jpg', img)"
   ],
   "outputs": [],
   "metadata": {}
  },
  {
   "cell_type": "code",
   "execution_count": 93,
   "source": [
    "for i in range(1, 11):\r\n",
    "    img = cv2.imread(f'c:/pythonworkspace/multi/0802/data/img/dog{str(i)}.jpg', cv2.IMREAD_GRAYSCALE)\r\n",
    "    img_resize(img, i)\r\n",
    "    "
   ],
   "outputs": [],
   "metadata": {}
  }
 ],
 "metadata": {
  "orig_nbformat": 4,
  "language_info": {
   "name": "python",
   "version": "3.8.7",
   "mimetype": "text/x-python",
   "codemirror_mode": {
    "name": "ipython",
    "version": 3
   },
   "pygments_lexer": "ipython3",
   "nbconvert_exporter": "python",
   "file_extension": ".py"
  },
  "kernelspec": {
   "name": "python3",
   "display_name": "Python 3.8.7 64-bit"
  },
  "interpreter": {
   "hash": "2db524e06e9f5f4ffedc911c917cb75e12dbc923643829bf417064a77eb14d37"
  }
 },
 "nbformat": 4,
 "nbformat_minor": 2
}