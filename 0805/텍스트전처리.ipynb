{
 "cells": [
  {
   "cell_type": "markdown",
   "source": [
    "## 텍스트전처리\r\n",
    "- 용도에 맞게 텍스트를 사전에 처리하는 작업\r\n",
    "- 토큰화(Tokenization)\r\n",
    "- 정제와 정규화\r\n",
    "    - 정제(cleaning) : 갖고 있는 코퍼스로부터 노이즈 데이터를 제거\r\n",
    "    - 정규화(normalization) : 표현 방법이 다른 단어들을 통합시켜서 같은 단어로 만듬\r\n",
    "- 표제어 추출(lemmatization)과 어간 추출(stemming)\r\n",
    "    - 어간(stem) : 단어의 의미를 담고 있는 단어의 핵심 부분\r\n",
    "    - 접사(affix) : 단어에 추가적인 의미를 주는 부분\r\n",
    "- 불용어(Stopword)\r\n",
    "- 정규 표현식(Regular Expression)\r\n",
    "- 정수 인코딩(Integer Encoding) : 텍스트를 숫자로 바꾸는 여러가지 기법(각 단어를 고유한 정수에 맵핑(mapping))\r\n",
    "- 패딩(Padding) : 병렬 연산을 위해서 여러 문장의 길이를 임의로 동일하게 맞춰주는 작업\r\n",
    "- 원-핫 인코딩(One-Hot Encoding) ★★★ 중요함\r\n",
    "- 데이터의 분리(Splitting Data) : 머신 러닝(딥러닝)모델에 데이터를 훈련시키기 위해서 데이터를 적절히 분리하는 작업"
   ],
   "metadata": {}
  },
  {
   "cell_type": "markdown",
   "source": [
    "토큰화(Tokenization)\r\n",
    "- 규착 1. '-'으로 구성된 단어를 하나로 유지된다. ex) home-based\r\n",
    "- 규칙 2. doesn't와 같이 '로 '접어'가 함께하는 단어는 분리한다 ex) does, not"
   ],
   "metadata": {}
  },
  {
   "cell_type": "code",
   "execution_count": 2,
   "source": [
    "from nltk.tokenize import TreebankWordTokenizer\r\n",
    "\r\n",
    "tokenizer=TreebankWordTokenizer()\r\n",
    "text=\"Starting a home-based restaurant may be an ideal. it doesn't have a food chain or restaurant of their own.\"\r\n",
    "print(tokenizer.tokenize(text))\r\n"
   ],
   "outputs": [
    {
     "output_type": "stream",
     "name": "stdout",
     "text": [
      "['Starting', 'a', 'home-based', 'restaurant', 'may', 'be', 'an', 'ideal.', 'it', 'does', \"n't\", 'have', 'a', 'food', 'chain', 'or', 'restaurant', 'of', 'their', 'own', '.']\n"
     ]
    }
   ],
   "metadata": {}
  },
  {
   "cell_type": "code",
   "execution_count": 3,
   "source": [
    "from nltk.tokenize import sent_tokenize\r\n",
    "text=\"His barber kept his word. But keeping such a huge secret to himself was driving him crazy. Finally, the barber went up a mountain and almost to the edge of a cliff. He dug a hole in the midst of some reeds. He looked about, to make sure no one was near.\"\r\n",
    "print(sent_tokenize(text))\r\n"
   ],
   "outputs": [
    {
     "output_type": "stream",
     "name": "stdout",
     "text": [
      "['His barber kept his word.', 'But keeping such a huge secret to himself was driving him crazy.', 'Finally, the barber went up a mountain and almost to the edge of a cliff.', 'He dug a hole in the midst of some reeds.', 'He looked about, to make sure no one was near.']\n"
     ]
    }
   ],
   "metadata": {}
  },
  {
   "cell_type": "code",
   "execution_count": 4,
   "source": [
    "from nltk.tokenize import sent_tokenize\r\n",
    "text=\"I am actively looking for Ph.D. students. and you are a Ph.D student.\"\r\n",
    "print(sent_tokenize(text))"
   ],
   "outputs": [
    {
     "output_type": "stream",
     "name": "stdout",
     "text": [
      "['I am actively looking for Ph.D. students.', 'and you are a Ph.D student.']\n"
     ]
    }
   ],
   "metadata": {}
  },
  {
   "cell_type": "markdown",
   "source": [
    "## 한글 문장\r\n",
    "## 한글 토큰화\r\n",
    "\r\n",
    "- Konlpy 모듈: Okt, Kkma, Hannannum, KOMORAN, mecab # https://iostream.tistory.com/144 성능비교\r\n",
    "- ckonlpy.Twitter(사전추가)\r\n",
    "- morphs : 형태소 추출 / pos : 품사 태깅(Part-of-speech tagging) / nouns : 명사 추출\r\n",
    "\r\n"
   ],
   "metadata": {}
  },
  {
   "cell_type": "code",
   "execution_count": 6,
   "source": [
    "from konlpy.tag import Okt\r\n",
    "text='딥 러닝 자연어 처리가 재미있기는 합니다. 그런데 문제는 영어보다 한국어로 할 때 너무 어려워요. 농담아니에요. 이제 해보면 알걸요?'\r\n",
    "\r\n",
    "okt = Okt()\r\n",
    "pos = okt.pos(text)\r\n",
    "morph = okt.morphs(text)\r\n",
    "print(pos)\r\n",
    "print(morph)"
   ],
   "outputs": [
    {
     "output_type": "stream",
     "name": "stdout",
     "text": [
      "[('딥', 'Noun'), ('러닝', 'Noun'), ('자연어', 'Noun'), ('처리', 'Noun'), ('가', 'Josa'), ('재미있기는', 'Adjective'), ('합니다', 'Verb'), ('.', 'Punctuation'), ('그런데', 'Conjunction'), ('문제', 'Noun'), ('는', 'Josa'), ('영어', 'Noun'), ('보다', 'Josa'), ('한국어', 'Noun'), ('로', 'Josa'), ('할', 'Verb'), ('때', 'Noun'), ('너무', 'Adverb'), ('어려워요', 'Adjective'), ('.', 'Punctuation'), ('농담', 'Noun'), ('아니에요', 'Adjective'), ('.', 'Punctuation'), ('이제', 'Noun'), ('해보면', 'Verb'), ('알걸', 'Noun'), ('요', 'Josa'), ('?', 'Punctuation')]\n",
      "['딥', '러닝', '자연어', '처리', '가', '재미있기는', '합니다', '.', '그런데', '문제', '는', '영어', '보다', '한국어', '로', '할', '때', '너무', '어려워요', '.', '농담', '아니에요', '.', '이제', '해보면', '알걸', '요', '?']\n"
     ]
    }
   ],
   "metadata": {}
  },
  {
   "cell_type": "code",
   "execution_count": 7,
   "source": [
    "!pip install kss"
   ],
   "outputs": [
    {
     "output_type": "stream",
     "name": "stdout",
     "text": [
      "Collecting kss\n",
      "  Downloading kss-2.5.1-py3-none-any.whl (65 kB)\n",
      "Installing collected packages: kss\n",
      "Successfully installed kss-2.5.1\n"
     ]
    }
   ],
   "metadata": {}
  },
  {
   "cell_type": "code",
   "execution_count": 8,
   "source": [
    "# KSS(Korean Sentence Splitter): 한글 문장 토큰화 도구\r\n",
    "import kss\r\n",
    "\r\n",
    "text='딥 러닝 자연어 처리가 재미있기는 합니다. 그런데 문제는 영어보다 한국어로 할 때 너무 어려워요. 농담아니에요. 이제 해보면 알걸요?'\r\n",
    "print(kss.split_sentences(text))"
   ],
   "outputs": [
    {
     "output_type": "stream",
     "name": "stdout",
     "text": [
      "['딥 러닝 자연어 처리가 재미있기는 합니다.', '그런데 문제는 영어보다 한국어로 할 때 너무 어려워요.', '농담아니에요.', '이제 해보면 알걸요?']\n"
     ]
    }
   ],
   "metadata": {}
  },
  {
   "cell_type": "markdown",
   "source": [
    "불용어(Stopword)\r\n",
    "- 유의미한 단어 토큰만을 선별하기 위해서 큰 의미가 없는 단어 토큰을 제거하는 작업"
   ],
   "metadata": {}
  },
  {
   "cell_type": "code",
   "execution_count": 9,
   "source": [
    "from nltk.corpus import stopwords  \r\n",
    "stopwords.words('english')[:10]\r\n",
    "\r\n",
    "from nltk.corpus import stopwords \r\n",
    "from nltk.tokenize import word_tokenize \r\n",
    "\r\n",
    "example = \"Family is not an important thing. It's everything.\"\r\n",
    "stop_words = set(stopwords.words('english')) \r\n",
    "\r\n",
    "word_tokens = word_tokenize(example)\r\n",
    "\r\n",
    "result = []\r\n",
    "for w in word_tokens: \r\n",
    "    if w not in stop_words: \r\n",
    "        result.append(w) \r\n",
    "\r\n",
    "print(word_tokens) \r\n",
    "print(result)\r\n"
   ],
   "outputs": [
    {
     "output_type": "stream",
     "name": "stdout",
     "text": [
      "['Family', 'is', 'not', 'an', 'important', 'thing', '.', 'It', \"'s\", 'everything', '.']\n",
      "['Family', 'important', 'thing', '.', 'It', \"'s\", 'everything', '.']\n"
     ]
    }
   ],
   "metadata": {}
  },
  {
   "cell_type": "code",
   "execution_count": 10,
   "source": [
    "from nltk.corpus import stopwords \r\n",
    "from nltk.tokenize import word_tokenize \r\n",
    "\r\n",
    "example = \"고기를 아무렇게나 구우려고 하면 안 돼. 고기라고 다 같은 게 아니거든. 예컨대 삼겹살을 구울 때는 중요한 게 있지.\"\r\n",
    "stop_words = \"아무거나 아무렇게나 어찌하든지 같다 비슷하다 예컨대 이럴정도로 하면 아니거든\"\r\n",
    "# 위의 불용어는 명사가 아닌 단어 중에서 저자가 임의로 선정한 것으로 실제 의미있는 선정 기준이 아님\r\n",
    "stop_words=stop_words.split(' ')\r\n",
    "word_tokens = word_tokenize(example)\r\n"
   ],
   "outputs": [],
   "metadata": {}
  },
  {
   "cell_type": "markdown",
   "source": [
    "## 정규 표현식(Regular Expression)\r\n",
    "- re 모듈\r\n",
    "- [ ] : 대괄호 안의 문자들 중 한 개의 문자와 매치, [a-zA-z가-힣0-9]\r\n",
    "- [^문자] : 해당 문자를 제외한 문자를 매치\r\n",
    "\r\n",
    "- 지원함수\r\n",
    "    - re.sub(정규식, 대체문자, 대상데이터) : 문자열에서 정규 표현식과 일치하는 부분에 대해서 다른 문자열로 대체\r\n",
    "    - re.split(구분자, 대상) : 입력된 정규 표현식을 기준으로 문자열들을 분리하여 리스트로 리턴\r\n",
    "    - re.findall() : 정규표현식과 매치되는 모든 문자열들을 리스트로 리턴\r\n"
   ],
   "metadata": {}
  },
  {
   "cell_type": "code",
   "execution_count": 11,
   "source": [
    "import re\r\n",
    "text=\"사과 딸기 수박 메론 바나나\"\r\n",
    "re.split(\" \",text) # text.split(' ')"
   ],
   "outputs": [
    {
     "output_type": "execute_result",
     "data": {
      "text/plain": [
       "['사과', '딸기', '수박', '메론', '바나나']"
      ]
     },
     "metadata": {},
     "execution_count": 11
    }
   ],
   "metadata": {}
  },
  {
   "cell_type": "code",
   "execution_count": 12,
   "source": [
    "text=\"\"\"사과\r\n",
    "딸기\r\n",
    "수박\r\n",
    "메론\r\n",
    "바나나\"\"\"\r\n",
    "re.split(\"\\n\",text)\r\n"
   ],
   "outputs": [
    {
     "output_type": "execute_result",
     "data": {
      "text/plain": [
       "['사과', '딸기', '수박', '메론', '바나나']"
      ]
     },
     "metadata": {},
     "execution_count": 12
    }
   ],
   "metadata": {}
  },
  {
   "cell_type": "code",
   "execution_count": 16,
   "source": [
    "text=\"\"\"이름 : 김철수\r\n",
    "전화번호 : 010 - 1234 - 1234\r\n",
    "나이 : 30\r\n",
    "성별 : 남\"\"\"  \r\n",
    "print(re.findall(\"\\d+\",text))\r\n",
    "print(re.findall('\\d', text))\r\n",
    "print(re.findall('\\w+', text))\r\n"
   ],
   "outputs": [
    {
     "output_type": "stream",
     "name": "stdout",
     "text": [
      "['010', '1234', '1234', '30']\n",
      "['0', '1', '0', '1', '2', '3', '4', '1', '2', '3', '4', '3', '0']\n",
      "['이름', '김철수', '전화번호', '010', '1234', '1234', '나이', '30', '성별', '남']\n"
     ]
    }
   ],
   "metadata": {}
  },
  {
   "cell_type": "code",
   "execution_count": 19,
   "source": [
    "text='''\r\n",
    "정규 표현식 패턴과 일치하는 문자열을 찾아 다른 문자열로 대체. \r\n",
    "Regular expression : A regular expression, regex or regexp[1] \r\n",
    "(sometimes called a rational expression)[2][3] is, \r\n",
    "in theoretical computer science and formal language theory, \r\n",
    "a sequence of characters that define a search pattern. \r\n",
    "'''\r\n",
    "print(re.sub('[^가-힣a-zA-Z0-9 ]', \" \", text))\r\n",
    "print(re.sub('[가-힣a-zA-Z0-9]', '', text))\r\n",
    "print(re.sub('[가-힣a-zA-Z0-9 \\n\\t]', '', text))"
   ],
   "outputs": [
    {
     "output_type": "stream",
     "name": "stdout",
     "text": [
      " 정규 표현식 패턴과 일치하는 문자열을 찾아 다른 문자열로 대체   Regular expression   A regular expression  regex or regexp 1    sometimes called a rational expression  2  3  is   in theoretical computer science and formal language theory   a sequence of characters that define a search pattern   \n",
      "\n",
      "        . \n",
      "  :   ,   [] \n",
      "(    )[][] , \n",
      "       , \n",
      "        . \n",
      "\n",
      ".:,[]()[][],,.\n"
     ]
    }
   ],
   "metadata": {}
  },
  {
   "cell_type": "code",
   "execution_count": 20,
   "source": [
    "re.findall('[A-Z]', text)"
   ],
   "outputs": [
    {
     "output_type": "execute_result",
     "data": {
      "text/plain": [
       "['R', 'A']"
      ]
     },
     "metadata": {},
     "execution_count": 20
    }
   ],
   "metadata": {}
  },
  {
   "cell_type": "code",
   "execution_count": 22,
   "source": [
    "print(re.findall('[가-힣]', text)) # 한글 탐색\r\n",
    "print(re.findall('[가-힣]+', text)) # 연속된 한글 탐색\r\n",
    "print(re.findall('[가-힣]{4}', text)) # 4글자 한글만 탐색"
   ],
   "outputs": [
    {
     "output_type": "stream",
     "name": "stdout",
     "text": [
      "['정', '규', '표', '현', '식', '패', '턴', '과', '일', '치', '하', '는', '문', '자', '열', '을', '찾', '아', '다', '른', '문', '자', '열', '로', '대', '체']\n",
      "['정규', '표현식', '패턴과', '일치하는', '문자열을', '찾아', '다른', '문자열로', '대체']\n",
      "['일치하는', '문자열을', '문자열로']\n"
     ]
    }
   ],
   "metadata": {}
  },
  {
   "cell_type": "markdown",
   "source": [
    "정수 인코딩(Integer Encoding)\r\n",
    "- Bag of Words(BOW)\r\n"
   ],
   "metadata": {}
  },
  {
   "cell_type": "code",
   "execution_count": 24,
   "source": [
    "from nltk.tokenize import sent_tokenize\r\n",
    "from nltk.tokenize import word_tokenize\r\n",
    "from nltk.corpus import stopwords\r\n",
    "\r\n",
    "text = \"A barber is a person. a barber is good person. a barber is huge person. he Knew A Secret! The Secret He Kept is huge secret. Huge secret. His barber kept his word. a barber kept his word. His barber kept his secret. But keeping and keeping such a huge secret to himself was driving the barber crazy. the barber went up a huge mountain.\"\r\n"
   ],
   "outputs": [],
   "metadata": {}
  },
  {
   "cell_type": "code",
   "execution_count": 25,
   "source": [
    "# 문장 토큰화\r\n",
    "text = sent_tokenize(text)\r\n",
    "print(text)\r\n"
   ],
   "outputs": [
    {
     "output_type": "stream",
     "name": "stdout",
     "text": [
      "['A barber is a person.', 'a barber is good person.', 'a barber is huge person.', 'he Knew A Secret!', 'The Secret He Kept is huge secret.', 'Huge secret.', 'His barber kept his word.', 'a barber kept his word.', 'His barber kept his secret.', 'But keeping and keeping such a huge secret to himself was driving the barber crazy.', 'the barber went up a huge mountain.']\n"
     ]
    }
   ],
   "metadata": {}
  },
  {
   "cell_type": "code",
   "execution_count": 27,
   "source": [
    "vocab = {} # 파이썬의 dictionary 자료형\r\n",
    "sentences = []\r\n",
    "stop_words = set(stopwords.words('english'))\r\n",
    "\r\n",
    "for i in text:\r\n",
    "    sentence = word_tokenize(i) # 단어 토큰화를 수행합니다.\r\n",
    "    result = []\r\n",
    "\r\n",
    "    for word in sentence: \r\n",
    "        word = word.lower() # 모든 단어를 소문자화하여 단어의 개수를 줄입니다.\r\n",
    "        if word not in stop_words: # 단어 토큰화 된 결과에 대해서 불용어를 제거합니다.\r\n",
    "            if len(word) > 2: # 단어 길이가 2이하인 경우에 대하여 추가로 단어를 제거합니다.\r\n",
    "                result.append(word)\r\n",
    "                if word not in vocab:\r\n",
    "                    vocab[word] = 0 \r\n",
    "                vocab[word] += 1\r\n",
    "    sentences.append(result) \r\n",
    "print(sentences) # 3글자 이상의 단어\r\n",
    "print(vocab)     # 단어의 빈도수"
   ],
   "outputs": [
    {
     "output_type": "stream",
     "name": "stdout",
     "text": [
      "[['barber', 'person'], ['barber', 'good', 'person'], ['barber', 'huge', 'person'], ['knew', 'secret'], ['secret', 'kept', 'huge', 'secret'], ['huge', 'secret'], ['barber', 'kept', 'word'], ['barber', 'kept', 'word'], ['barber', 'kept', 'secret'], ['keeping', 'keeping', 'huge', 'secret', 'driving', 'barber', 'crazy'], ['barber', 'went', 'huge', 'mountain']]\n",
      "{'barber': 8, 'person': 3, 'good': 1, 'huge': 5, 'knew': 1, 'secret': 6, 'kept': 4, 'word': 2, 'keeping': 2, 'driving': 1, 'crazy': 1, 'went': 1, 'mountain': 1}\n"
     ]
    }
   ],
   "metadata": {}
  },
  {
   "cell_type": "code",
   "execution_count": 28,
   "source": [
    "print(type(vocab))"
   ],
   "outputs": [
    {
     "output_type": "stream",
     "name": "stdout",
     "text": [
      "<class 'dict'>\n"
     ]
    }
   ],
   "metadata": {}
  },
  {
   "cell_type": "code",
   "execution_count": 29,
   "source": [
    "# 빈도수가 높은 순서대로 정렬\r\n",
    "# sorted(정렬할 데이터, key파라미터, reverse 파라미터)\r\n",
    "\r\n",
    "vocab_sorted = sorted(vocab.items(), key = lambda x:x[1], reverse = True)\r\n",
    "print(vocab_sorted)"
   ],
   "outputs": [
    {
     "output_type": "stream",
     "name": "stdout",
     "text": [
      "[('barber', 8), ('secret', 6), ('huge', 5), ('kept', 4), ('person', 3), ('word', 2), ('keeping', 2), ('good', 1), ('knew', 1), ('driving', 1), ('crazy', 1), ('went', 1), ('mountain', 1)]\n"
     ]
    }
   ],
   "metadata": {}
  },
  {
   "cell_type": "code",
   "execution_count": 30,
   "source": [
    "# 높은 빈도수를 가진 단어일수록 낮은 정수 인덱스를 부여\r\n",
    "word_to_index = {}\r\n",
    "i=0\r\n",
    "for (word, frequency) in vocab_sorted :\r\n",
    "    if frequency > 1 : # 정제(Cleaning) 챕터에서 언급했듯이 빈도수가 적은 단어는 제외한다.\r\n",
    "        i=i+1\r\n",
    "        word_to_index[word] = i\r\n",
    "print(word_to_index)\r\n"
   ],
   "outputs": [
    {
     "output_type": "stream",
     "name": "stdout",
     "text": [
      "{'barber': 1, 'secret': 2, 'huge': 3, 'kept': 4, 'person': 5, 'word': 6, 'keeping': 7}\n"
     ]
    }
   ],
   "metadata": {}
  },
  {
   "cell_type": "code",
   "execution_count": 31,
   "source": [
    "vocab_size = 5\r\n",
    "words_frequency = [w for w,c in word_to_index.items() if c >= vocab_size + 1] # 인덱스가 5 초과인 단어 제거\r\n",
    "for w in words_frequency:\r\n",
    "    del word_to_index[w] # 해당 단어에 대한 인덱스 정보를 삭제\r\n",
    "print(word_to_index)\r\n"
   ],
   "outputs": [
    {
     "output_type": "stream",
     "name": "stdout",
     "text": [
      "{'barber': 1, 'secret': 2, 'huge': 3, 'kept': 4, 'person': 5}\n"
     ]
    }
   ],
   "metadata": {}
  },
  {
   "cell_type": "markdown",
   "source": [
    "- index -> {'barber': 1, 'secret': 2, 'huge': 3, 'kept': 4, 'person': 5}\r\n",
    "- 원본 =>  ['barber', 'person'], ['barber', 'good', 'person'], ['barber', 'huge', 'person']\r\n",
    "- index 매핑 => [1, 5], [1, ??, 5], [1, ??, 5]\r\n",
    "- ?? -> out of vocabulary(단어 집합에 없는 단어)"
   ],
   "metadata": {}
  },
  {
   "cell_type": "code",
   "execution_count": 32,
   "source": [
    "len(word_to_index)"
   ],
   "outputs": [
    {
     "output_type": "execute_result",
     "data": {
      "text/plain": [
       "5"
      ]
     },
     "metadata": {},
     "execution_count": 32
    }
   ],
   "metadata": {}
  },
  {
   "cell_type": "code",
   "execution_count": 33,
   "source": [
    "word_to_index['OOV'] = len(word_to_index) + 1 # Out-Of-Vocabulary으로 마지막 번호 부여\r\n",
    "word_to_index['OOV']"
   ],
   "outputs": [
    {
     "output_type": "execute_result",
     "data": {
      "text/plain": [
       "6"
      ]
     },
     "metadata": {},
     "execution_count": 33
    }
   ],
   "metadata": {}
  },
  {
   "cell_type": "code",
   "execution_count": 34,
   "source": [
    "encoded = []\r\n",
    "\r\n",
    "for s in sentences:\r\n",
    "    temp = []\r\n",
    "    for w in s:\r\n",
    "        try:\r\n",
    "            temp.append(word_to_index[w])\r\n",
    "        except KeyError:\r\n",
    "            temp.append(word_to_index['OOV'])\r\n",
    "    encoded.append(temp)\r\n",
    "print(encoded)"
   ],
   "outputs": [
    {
     "output_type": "stream",
     "name": "stdout",
     "text": [
      "[[1, 5], [1, 6, 5], [1, 3, 5], [6, 2], [2, 4, 3, 2], [3, 2], [1, 4, 6], [1, 4, 6], [1, 4, 2], [6, 6, 3, 2, 6, 1, 6], [1, 6, 3, 6]]\n"
     ]
    }
   ],
   "metadata": {}
  },
  {
   "cell_type": "markdown",
   "source": [
    "## collections Counter사용하기\r\n"
   ],
   "metadata": {}
  },
  {
   "cell_type": "code",
   "execution_count": 35,
   "source": [
    "from collections import Counter\r\n",
    "print(sentences)"
   ],
   "outputs": [
    {
     "output_type": "stream",
     "name": "stdout",
     "text": [
      "[['barber', 'person'], ['barber', 'good', 'person'], ['barber', 'huge', 'person'], ['knew', 'secret'], ['secret', 'kept', 'huge', 'secret'], ['huge', 'secret'], ['barber', 'kept', 'word'], ['barber', 'kept', 'word'], ['barber', 'kept', 'secret'], ['keeping', 'keeping', 'huge', 'secret', 'driving', 'barber', 'crazy'], ['barber', 'went', 'huge', 'mountain']]\n"
     ]
    }
   ],
   "metadata": {}
  },
  {
   "cell_type": "code",
   "execution_count": 36,
   "source": [
    "words = sum(sentences, [])\r\n",
    "print(words)"
   ],
   "outputs": [
    {
     "output_type": "stream",
     "name": "stdout",
     "text": [
      "['barber', 'person', 'barber', 'good', 'person', 'barber', 'huge', 'person', 'knew', 'secret', 'secret', 'kept', 'huge', 'secret', 'huge', 'secret', 'barber', 'kept', 'word', 'barber', 'kept', 'word', 'barber', 'kept', 'secret', 'keeping', 'keeping', 'huge', 'secret', 'driving', 'barber', 'crazy', 'barber', 'went', 'huge', 'mountain']\n"
     ]
    }
   ],
   "metadata": {}
  },
  {
   "cell_type": "code",
   "execution_count": 51,
   "source": [
    "vocab = Counter(words)"
   ],
   "outputs": [],
   "metadata": {}
  },
  {
   "cell_type": "code",
   "execution_count": 52,
   "source": [
    "vocab_size = 5\r\n",
    "vocab = vocab.most_common(vocab_size) # 등장 빈도수가 높은 상위 5개의 단어만 저장\r\n",
    "vocab"
   ],
   "outputs": [
    {
     "output_type": "execute_result",
     "data": {
      "text/plain": [
       "[('barber', 8), ('secret', 6), ('huge', 5), ('kept', 4), ('person', 3)]"
      ]
     },
     "metadata": {},
     "execution_count": 52
    }
   ],
   "metadata": {}
  },
  {
   "cell_type": "markdown",
   "source": [
    "## 원-핫 인코딩(One-Hot Encoding)\r\n",
    "- 단어 집합의 크기를 벡터의 차원으로 하고, 표현하고 싶은 단어의 인덱스에 1의 값을 부여하고, 다른 인덱스에는 0을 부여하는 단어의 벡터 표현방식\r\n",
    "1. 각 단어에 고유한 인덱스를 부여(정수 인코딩)\r\n",
    "2. 표현하고 싶은 단어의 인덱스의 위치에 1을 부여하고, 다른 단어의 인덱스의 위치에는 0을 부여합니다."
   ],
   "metadata": {}
  },
  {
   "cell_type": "code",
   "execution_count": 53,
   "source": [
    "from konlpy.tag import Okt  \r\n",
    "okt=Okt()  \r\n",
    "token=okt.morphs(\"나는 자연어 처리를 배운다\")  \r\n",
    "print(token)\r\n"
   ],
   "outputs": [
    {
     "output_type": "stream",
     "name": "stdout",
     "text": [
      "['나', '는', '자연어', '처리', '를', '배운다']\n"
     ]
    }
   ],
   "metadata": {}
  },
  {
   "cell_type": "code",
   "execution_count": 54,
   "source": [
    "word2index={}\r\n",
    "for voca in token:\r\n",
    "     if voca not in word2index.keys():\r\n",
    "            word2index[voca]=len(word2index)\r\n",
    "print(word2index)\r\n"
   ],
   "outputs": [
    {
     "output_type": "stream",
     "name": "stdout",
     "text": [
      "{'나': 0, '는': 1, '자연어': 2, '처리': 3, '를': 4, '배운다': 5}\n"
     ]
    }
   ],
   "metadata": {}
  },
  {
   "cell_type": "code",
   "execution_count": 55,
   "source": [
    "def one_hot_encoding(word, word2index):\r\n",
    "    one_hot_vector = [0]*(len(word2index))\r\n",
    "    index=word2index[word]\r\n",
    "    one_hot_vector[index]=1\r\n",
    "    return one_hot_vector\r\n"
   ],
   "outputs": [],
   "metadata": {}
  },
  {
   "cell_type": "code",
   "execution_count": 60,
   "source": [
    "one_hot_encoding('처리', word2index)"
   ],
   "outputs": [
    {
     "output_type": "execute_result",
     "data": {
      "text/plain": [
       "[0, 0, 0, 1, 0, 0]"
      ]
     },
     "metadata": {},
     "execution_count": 60
    }
   ],
   "metadata": {}
  },
  {
   "cell_type": "markdown",
   "source": [
    "케라스(Keras)를 이용한 원-핫 인코딩"
   ],
   "metadata": {}
  },
  {
   "cell_type": "code",
   "execution_count": 61,
   "source": [
    "from tensorflow.keras.preprocessing.text import Tokenizer\r\n",
    "from tensorflow.keras.utils import to_categorical\r\n"
   ],
   "outputs": [],
   "metadata": {}
  },
  {
   "cell_type": "code",
   "execution_count": 64,
   "source": [
    "text=\"나랑 점심 먹으러 갈래 점심 메뉴는 햄버거 갈래 갈래 햄버거 최고야\"\r\n",
    "\r\n",
    "t = Tokenizer()\r\n",
    "t.fit_on_texts([text])\r\n",
    "print(t.word_index) # 각 단어에 대한 인코딩 결과 출력.\r\n"
   ],
   "outputs": [
    {
     "output_type": "stream",
     "name": "stdout",
     "text": [
      "{'갈래': 1, '점심': 2, '햄버거': 3, '나랑': 4, '먹으러': 5, '메뉴는': 6, '최고야': 7}\n"
     ]
    }
   ],
   "metadata": {}
  },
  {
   "cell_type": "code",
   "execution_count": 67,
   "source": [
    "sub_text = '점심 먹으러 갈래 메뉴는 햄버거 최고야'\r\n",
    "encoded = t.texts_to_sequences([sub_text])[0]\r\n",
    "print(encoded)"
   ],
   "outputs": [
    {
     "output_type": "stream",
     "name": "stdout",
     "text": [
      "[2, 5, 1, 6, 3, 7]\n"
     ]
    }
   ],
   "metadata": {}
  },
  {
   "cell_type": "code",
   "execution_count": 68,
   "source": [
    "one_hot = to_categorical(encoded)\r\n",
    "print(one_hot)"
   ],
   "outputs": [
    {
     "output_type": "stream",
     "name": "stdout",
     "text": [
      "[[0. 0. 1. 0. 0. 0. 0. 0.]\n",
      " [0. 0. 0. 0. 0. 1. 0. 0.]\n",
      " [0. 1. 0. 0. 0. 0. 0. 0.]\n",
      " [0. 0. 0. 0. 0. 0. 1. 0.]\n",
      " [0. 0. 0. 1. 0. 0. 0. 0.]\n",
      " [0. 0. 0. 0. 0. 0. 0. 1.]]\n"
     ]
    }
   ],
   "metadata": {}
  },
  {
   "cell_type": "code",
   "execution_count": null,
   "source": [],
   "outputs": [],
   "metadata": {}
  },
  {
   "cell_type": "code",
   "execution_count": null,
   "source": [],
   "outputs": [],
   "metadata": {}
  }
 ],
 "metadata": {
  "orig_nbformat": 4,
  "language_info": {
   "name": "python",
   "version": "3.8.7",
   "mimetype": "text/x-python",
   "codemirror_mode": {
    "name": "ipython",
    "version": 3
   },
   "pygments_lexer": "ipython3",
   "nbconvert_exporter": "python",
   "file_extension": ".py"
  },
  "kernelspec": {
   "name": "python3",
   "display_name": "Python 3.8.7 64-bit"
  },
  "interpreter": {
   "hash": "2db524e06e9f5f4ffedc911c917cb75e12dbc923643829bf417064a77eb14d37"
  }
 },
 "nbformat": 4,
 "nbformat_minor": 2
}