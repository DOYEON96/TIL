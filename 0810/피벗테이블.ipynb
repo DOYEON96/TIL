{
 "cells": [
  {
   "cell_type": "code",
   "execution_count": 29,
   "source": [
    "import pandas as pd\r\n",
    "\r\n",
    "df = pd.read_csv('c:/pythonworkspace/multi/0810/data/data1.csv', encoding = 'cp949', header=3)\r\n",
    "df.head()"
   ],
   "outputs": [
    {
     "output_type": "execute_result",
     "data": {
      "text/plain": [
       "     거래일자     제품명  제품군  브랜드     규격        단가   거래량  할인율         금액\n",
       "0  01. 01      샘물   음료  미가랑  2L*12    8,500   42.0   3%   346,290 \n",
       "1  01. 02      샘물   음료  미가랑  2L*12    8,500   29.0  NaN   246,500 \n",
       "2  01. 03     디너롤  제빵류  미가랑    36개    5,800   56.0   5%   308,560 \n",
       "3  01. 04     디너롤  제빵류  미가랑    36개    5,800   68.0   5%   374,680 \n",
       "4  01. 05  신당동떡볶이  간식류  초록물    30봉   13,200   70.0  10%   831,600 "
      ],
      "text/html": [
       "<div>\n",
       "<style scoped>\n",
       "    .dataframe tbody tr th:only-of-type {\n",
       "        vertical-align: middle;\n",
       "    }\n",
       "\n",
       "    .dataframe tbody tr th {\n",
       "        vertical-align: top;\n",
       "    }\n",
       "\n",
       "    .dataframe thead th {\n",
       "        text-align: right;\n",
       "    }\n",
       "</style>\n",
       "<table border=\"1\" class=\"dataframe\">\n",
       "  <thead>\n",
       "    <tr style=\"text-align: right;\">\n",
       "      <th></th>\n",
       "      <th>거래일자</th>\n",
       "      <th>제품명</th>\n",
       "      <th>제품군</th>\n",
       "      <th>브랜드</th>\n",
       "      <th>규격</th>\n",
       "      <th>단가</th>\n",
       "      <th>거래량</th>\n",
       "      <th>할인율</th>\n",
       "      <th>금액</th>\n",
       "    </tr>\n",
       "  </thead>\n",
       "  <tbody>\n",
       "    <tr>\n",
       "      <th>0</th>\n",
       "      <td>01. 01</td>\n",
       "      <td>샘물</td>\n",
       "      <td>음료</td>\n",
       "      <td>미가랑</td>\n",
       "      <td>2L*12</td>\n",
       "      <td>8,500</td>\n",
       "      <td>42.0</td>\n",
       "      <td>3%</td>\n",
       "      <td>346,290</td>\n",
       "    </tr>\n",
       "    <tr>\n",
       "      <th>1</th>\n",
       "      <td>01. 02</td>\n",
       "      <td>샘물</td>\n",
       "      <td>음료</td>\n",
       "      <td>미가랑</td>\n",
       "      <td>2L*12</td>\n",
       "      <td>8,500</td>\n",
       "      <td>29.0</td>\n",
       "      <td>NaN</td>\n",
       "      <td>246,500</td>\n",
       "    </tr>\n",
       "    <tr>\n",
       "      <th>2</th>\n",
       "      <td>01. 03</td>\n",
       "      <td>디너롤</td>\n",
       "      <td>제빵류</td>\n",
       "      <td>미가랑</td>\n",
       "      <td>36개</td>\n",
       "      <td>5,800</td>\n",
       "      <td>56.0</td>\n",
       "      <td>5%</td>\n",
       "      <td>308,560</td>\n",
       "    </tr>\n",
       "    <tr>\n",
       "      <th>3</th>\n",
       "      <td>01. 04</td>\n",
       "      <td>디너롤</td>\n",
       "      <td>제빵류</td>\n",
       "      <td>미가랑</td>\n",
       "      <td>36개</td>\n",
       "      <td>5,800</td>\n",
       "      <td>68.0</td>\n",
       "      <td>5%</td>\n",
       "      <td>374,680</td>\n",
       "    </tr>\n",
       "    <tr>\n",
       "      <th>4</th>\n",
       "      <td>01. 05</td>\n",
       "      <td>신당동떡볶이</td>\n",
       "      <td>간식류</td>\n",
       "      <td>초록물</td>\n",
       "      <td>30봉</td>\n",
       "      <td>13,200</td>\n",
       "      <td>70.0</td>\n",
       "      <td>10%</td>\n",
       "      <td>831,600</td>\n",
       "    </tr>\n",
       "  </tbody>\n",
       "</table>\n",
       "</div>"
      ]
     },
     "metadata": {},
     "execution_count": 29
    }
   ],
   "metadata": {}
  },
  {
   "cell_type": "code",
   "execution_count": null,
   "source": [
    "# df.pivot('제품군', '브랜드')"
   ],
   "outputs": [],
   "metadata": {}
  },
  {
   "cell_type": "code",
   "execution_count": 34,
   "source": [
    "df = df.dropna(how=\"all\")"
   ],
   "outputs": [],
   "metadata": {}
  },
  {
   "cell_type": "code",
   "execution_count": 32,
   "source": [
    "df.isnull().sum()"
   ],
   "outputs": [
    {
     "output_type": "execute_result",
     "data": {
      "text/plain": [
       "거래일자     18\n",
       "제품명      18\n",
       "제품군      18\n",
       "브랜드      18\n",
       "규격       18\n",
       "단가       18\n",
       "거래량      18\n",
       "할인율     107\n",
       "금액       18\n",
       "dtype: int64"
      ]
     },
     "metadata": {},
     "execution_count": 32
    }
   ],
   "metadata": {}
  },
  {
   "cell_type": "code",
   "execution_count": 35,
   "source": [
    "df['금액'] = df['금액'].str.replace(',','').replace(' ', '')\r\n",
    "df = df.astype({'금액':'int64'})\r\n",
    "df.info()"
   ],
   "outputs": [
    {
     "output_type": "stream",
     "name": "stdout",
     "text": [
      "<class 'pandas.core.frame.DataFrame'>\n",
      "Int64Index: 311 entries, 0 to 310\n",
      "Data columns (total 9 columns):\n",
      " #   Column  Non-Null Count  Dtype  \n",
      "---  ------  --------------  -----  \n",
      " 0   거래일자    311 non-null    object \n",
      " 1   제품명     311 non-null    object \n",
      " 2   제품군     311 non-null    object \n",
      " 3   브랜드     311 non-null    object \n",
      " 4   규격      311 non-null    object \n",
      " 5   단가      311 non-null    object \n",
      " 6   거래량     311 non-null    float64\n",
      " 7   할인율     222 non-null    object \n",
      " 8   금액      311 non-null    int64  \n",
      "dtypes: float64(1), int64(1), object(7)\n",
      "memory usage: 24.3+ KB\n"
     ]
    },
    {
     "output_type": "stream",
     "name": "stderr",
     "text": [
      "C:\\Users\\김도연\\AppData\\Local\\Temp/ipykernel_25288/1404923443.py:1: SettingWithCopyWarning: \n",
      "A value is trying to be set on a copy of a slice from a DataFrame.\n",
      "Try using .loc[row_indexer,col_indexer] = value instead\n",
      "\n",
      "See the caveats in the documentation: https://pandas.pydata.org/pandas-docs/stable/user_guide/indexing.html#returning-a-view-versus-a-copy\n",
      "  df['금액'] = df['금액'].str.replace(',','').replace(' ', '')\n"
     ]
    }
   ],
   "metadata": {}
  },
  {
   "cell_type": "markdown",
   "source": [
    "data.pivot_table(values=None, index = None, columns = None, aggfunc='mean', fill_value = None, margins = False, dropna = True, margins_name = 'ALL')\r\n",
    "\r\n",
    "- index : index 색인으로 사용될 컬럼\r\n",
    "- columns : column 색인으로 사용될 컬럼\r\n",
    "- aggfunc : 데이터 축약시 사용할 함수 (mean, sum, count ...)\r\n",
    "- margins : 행/열별 총합"
   ],
   "metadata": {}
  },
  {
   "cell_type": "code",
   "execution_count": 36,
   "source": [
    "df.pivot_table(values=['금액', '거래량'], index = '제품군', columns='브랜드', aggfunc=sum, margins=True)"
   ],
   "outputs": [
    {
     "output_type": "execute_result",
     "data": {
      "text/plain": [
       "        거래량                                 금액                               \n",
       "브랜드    도도식품     미가랑     초록물      All      도도식품       미가랑       초록물        All\n",
       "제품군                                                                          \n",
       "간식류  1098.0   425.0  1353.0   2876.0   8968340   1776690  13338290   24083320\n",
       "음료    704.0  1121.0  1196.0   3021.0  18014860  15121920  16507710   49644490\n",
       "제빵류  1072.0  1167.0  1278.0   3517.0   6334910   8872720  15641780   30849410\n",
       "차류    938.0  3063.0   394.0   4395.0  20710610  45145210   4589970   70445790\n",
       "All  3812.0  5776.0  4221.0  13809.0  54028720  70916540  50077750  175023010"
      ],
      "text/html": [
       "<div>\n",
       "<style scoped>\n",
       "    .dataframe tbody tr th:only-of-type {\n",
       "        vertical-align: middle;\n",
       "    }\n",
       "\n",
       "    .dataframe tbody tr th {\n",
       "        vertical-align: top;\n",
       "    }\n",
       "\n",
       "    .dataframe thead tr th {\n",
       "        text-align: left;\n",
       "    }\n",
       "\n",
       "    .dataframe thead tr:last-of-type th {\n",
       "        text-align: right;\n",
       "    }\n",
       "</style>\n",
       "<table border=\"1\" class=\"dataframe\">\n",
       "  <thead>\n",
       "    <tr>\n",
       "      <th></th>\n",
       "      <th colspan=\"4\" halign=\"left\">거래량</th>\n",
       "      <th colspan=\"4\" halign=\"left\">금액</th>\n",
       "    </tr>\n",
       "    <tr>\n",
       "      <th>브랜드</th>\n",
       "      <th>도도식품</th>\n",
       "      <th>미가랑</th>\n",
       "      <th>초록물</th>\n",
       "      <th>All</th>\n",
       "      <th>도도식품</th>\n",
       "      <th>미가랑</th>\n",
       "      <th>초록물</th>\n",
       "      <th>All</th>\n",
       "    </tr>\n",
       "    <tr>\n",
       "      <th>제품군</th>\n",
       "      <th></th>\n",
       "      <th></th>\n",
       "      <th></th>\n",
       "      <th></th>\n",
       "      <th></th>\n",
       "      <th></th>\n",
       "      <th></th>\n",
       "      <th></th>\n",
       "    </tr>\n",
       "  </thead>\n",
       "  <tbody>\n",
       "    <tr>\n",
       "      <th>간식류</th>\n",
       "      <td>1098.0</td>\n",
       "      <td>425.0</td>\n",
       "      <td>1353.0</td>\n",
       "      <td>2876.0</td>\n",
       "      <td>8968340</td>\n",
       "      <td>1776690</td>\n",
       "      <td>13338290</td>\n",
       "      <td>24083320</td>\n",
       "    </tr>\n",
       "    <tr>\n",
       "      <th>음료</th>\n",
       "      <td>704.0</td>\n",
       "      <td>1121.0</td>\n",
       "      <td>1196.0</td>\n",
       "      <td>3021.0</td>\n",
       "      <td>18014860</td>\n",
       "      <td>15121920</td>\n",
       "      <td>16507710</td>\n",
       "      <td>49644490</td>\n",
       "    </tr>\n",
       "    <tr>\n",
       "      <th>제빵류</th>\n",
       "      <td>1072.0</td>\n",
       "      <td>1167.0</td>\n",
       "      <td>1278.0</td>\n",
       "      <td>3517.0</td>\n",
       "      <td>6334910</td>\n",
       "      <td>8872720</td>\n",
       "      <td>15641780</td>\n",
       "      <td>30849410</td>\n",
       "    </tr>\n",
       "    <tr>\n",
       "      <th>차류</th>\n",
       "      <td>938.0</td>\n",
       "      <td>3063.0</td>\n",
       "      <td>394.0</td>\n",
       "      <td>4395.0</td>\n",
       "      <td>20710610</td>\n",
       "      <td>45145210</td>\n",
       "      <td>4589970</td>\n",
       "      <td>70445790</td>\n",
       "    </tr>\n",
       "    <tr>\n",
       "      <th>All</th>\n",
       "      <td>3812.0</td>\n",
       "      <td>5776.0</td>\n",
       "      <td>4221.0</td>\n",
       "      <td>13809.0</td>\n",
       "      <td>54028720</td>\n",
       "      <td>70916540</td>\n",
       "      <td>50077750</td>\n",
       "      <td>175023010</td>\n",
       "    </tr>\n",
       "  </tbody>\n",
       "</table>\n",
       "</div>"
      ]
     },
     "metadata": {},
     "execution_count": 36
    }
   ],
   "metadata": {}
  },
  {
   "cell_type": "code",
   "execution_count": 37,
   "source": [
    "df1 = df.pivot_table(values=['금액', '거래량'], index = '제품군', columns='브랜드', aggfunc=sum, margins=True)"
   ],
   "outputs": [],
   "metadata": {}
  },
  {
   "cell_type": "code",
   "execution_count": 38,
   "source": [
    "df1"
   ],
   "outputs": [
    {
     "output_type": "execute_result",
     "data": {
      "text/plain": [
       "        거래량                                 금액                               \n",
       "브랜드    도도식품     미가랑     초록물      All      도도식품       미가랑       초록물        All\n",
       "제품군                                                                          \n",
       "간식류  1098.0   425.0  1353.0   2876.0   8968340   1776690  13338290   24083320\n",
       "음료    704.0  1121.0  1196.0   3021.0  18014860  15121920  16507710   49644490\n",
       "제빵류  1072.0  1167.0  1278.0   3517.0   6334910   8872720  15641780   30849410\n",
       "차류    938.0  3063.0   394.0   4395.0  20710610  45145210   4589970   70445790\n",
       "All  3812.0  5776.0  4221.0  13809.0  54028720  70916540  50077750  175023010"
      ],
      "text/html": [
       "<div>\n",
       "<style scoped>\n",
       "    .dataframe tbody tr th:only-of-type {\n",
       "        vertical-align: middle;\n",
       "    }\n",
       "\n",
       "    .dataframe tbody tr th {\n",
       "        vertical-align: top;\n",
       "    }\n",
       "\n",
       "    .dataframe thead tr th {\n",
       "        text-align: left;\n",
       "    }\n",
       "\n",
       "    .dataframe thead tr:last-of-type th {\n",
       "        text-align: right;\n",
       "    }\n",
       "</style>\n",
       "<table border=\"1\" class=\"dataframe\">\n",
       "  <thead>\n",
       "    <tr>\n",
       "      <th></th>\n",
       "      <th colspan=\"4\" halign=\"left\">거래량</th>\n",
       "      <th colspan=\"4\" halign=\"left\">금액</th>\n",
       "    </tr>\n",
       "    <tr>\n",
       "      <th>브랜드</th>\n",
       "      <th>도도식품</th>\n",
       "      <th>미가랑</th>\n",
       "      <th>초록물</th>\n",
       "      <th>All</th>\n",
       "      <th>도도식품</th>\n",
       "      <th>미가랑</th>\n",
       "      <th>초록물</th>\n",
       "      <th>All</th>\n",
       "    </tr>\n",
       "    <tr>\n",
       "      <th>제품군</th>\n",
       "      <th></th>\n",
       "      <th></th>\n",
       "      <th></th>\n",
       "      <th></th>\n",
       "      <th></th>\n",
       "      <th></th>\n",
       "      <th></th>\n",
       "      <th></th>\n",
       "    </tr>\n",
       "  </thead>\n",
       "  <tbody>\n",
       "    <tr>\n",
       "      <th>간식류</th>\n",
       "      <td>1098.0</td>\n",
       "      <td>425.0</td>\n",
       "      <td>1353.0</td>\n",
       "      <td>2876.0</td>\n",
       "      <td>8968340</td>\n",
       "      <td>1776690</td>\n",
       "      <td>13338290</td>\n",
       "      <td>24083320</td>\n",
       "    </tr>\n",
       "    <tr>\n",
       "      <th>음료</th>\n",
       "      <td>704.0</td>\n",
       "      <td>1121.0</td>\n",
       "      <td>1196.0</td>\n",
       "      <td>3021.0</td>\n",
       "      <td>18014860</td>\n",
       "      <td>15121920</td>\n",
       "      <td>16507710</td>\n",
       "      <td>49644490</td>\n",
       "    </tr>\n",
       "    <tr>\n",
       "      <th>제빵류</th>\n",
       "      <td>1072.0</td>\n",
       "      <td>1167.0</td>\n",
       "      <td>1278.0</td>\n",
       "      <td>3517.0</td>\n",
       "      <td>6334910</td>\n",
       "      <td>8872720</td>\n",
       "      <td>15641780</td>\n",
       "      <td>30849410</td>\n",
       "    </tr>\n",
       "    <tr>\n",
       "      <th>차류</th>\n",
       "      <td>938.0</td>\n",
       "      <td>3063.0</td>\n",
       "      <td>394.0</td>\n",
       "      <td>4395.0</td>\n",
       "      <td>20710610</td>\n",
       "      <td>45145210</td>\n",
       "      <td>4589970</td>\n",
       "      <td>70445790</td>\n",
       "    </tr>\n",
       "    <tr>\n",
       "      <th>All</th>\n",
       "      <td>3812.0</td>\n",
       "      <td>5776.0</td>\n",
       "      <td>4221.0</td>\n",
       "      <td>13809.0</td>\n",
       "      <td>54028720</td>\n",
       "      <td>70916540</td>\n",
       "      <td>50077750</td>\n",
       "      <td>175023010</td>\n",
       "    </tr>\n",
       "  </tbody>\n",
       "</table>\n",
       "</div>"
      ]
     },
     "metadata": {},
     "execution_count": 38
    }
   ],
   "metadata": {}
  },
  {
   "cell_type": "code",
   "execution_count": 39,
   "source": [
    "df1.xs('음료')"
   ],
   "outputs": [
    {
     "output_type": "execute_result",
     "data": {
      "text/plain": [
       "     브랜드 \n",
       "거래량  도도식품         704.0\n",
       "     미가랑         1121.0\n",
       "     초록물         1196.0\n",
       "     All         3021.0\n",
       "금액   도도식품    18014860.0\n",
       "     미가랑     15121920.0\n",
       "     초록물     16507710.0\n",
       "     All     49644490.0\n",
       "Name: 음료, dtype: float64"
      ]
     },
     "metadata": {},
     "execution_count": 39
    }
   ],
   "metadata": {}
  },
  {
   "cell_type": "code",
   "execution_count": 41,
   "source": [
    "df1.loc['음료', ('거래량', '미가랑')]"
   ],
   "outputs": [
    {
     "output_type": "execute_result",
     "data": {
      "text/plain": [
       "1121.0"
      ]
     },
     "metadata": {},
     "execution_count": 41
    }
   ],
   "metadata": {}
  },
  {
   "cell_type": "code",
   "execution_count": null,
   "source": [],
   "outputs": [],
   "metadata": {}
  },
  {
   "cell_type": "code",
   "execution_count": null,
   "source": [],
   "outputs": [],
   "metadata": {}
  }
 ],
 "metadata": {
  "orig_nbformat": 4,
  "language_info": {
   "name": "python",
   "version": "3.8.7",
   "mimetype": "text/x-python",
   "codemirror_mode": {
    "name": "ipython",
    "version": 3
   },
   "pygments_lexer": "ipython3",
   "nbconvert_exporter": "python",
   "file_extension": ".py"
  },
  "kernelspec": {
   "name": "python3",
   "display_name": "Python 3.8.7 64-bit"
  },
  "interpreter": {
   "hash": "2db524e06e9f5f4ffedc911c917cb75e12dbc923643829bf417064a77eb14d37"
  }
 },
 "nbformat": 4,
 "nbformat_minor": 2
}