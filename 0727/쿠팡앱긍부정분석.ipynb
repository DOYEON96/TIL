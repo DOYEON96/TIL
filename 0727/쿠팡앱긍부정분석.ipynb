{
 "cells": [
  {
   "cell_type": "markdown",
   "source": [
    "### 쿠팡 긍/부정 \r\n",
    "1. 구글 플레이스토어 쿠팡 이동\r\n",
    "    1. 셀리늄 사용\r\n",
    "    2. 5회 더보기 후 댓글 전체 가져오기\r\n",
    "2. 댓글 전체 가져오기\r\n",
    "3. 댓글을 이용한 긍정/부정 분석\r\n",
    "    1. TextBlob을 이용한 학습 후 긍/부정 분석(긍/부정 건수 비교) 시각화\r\n",
    "    2. 긍/부정 사전을 이용한 데이터 분석\r\n",
    "        1. konlpy를 이용해 단어구분(명사/형용사/동사/부사)\r\n",
    "        2. 불필요한 데이터 불용어 삭제\r\n",
    "        3. 토픽 분석 : 긍/부정 단어 개수 각각\r\n",
    "        4. 시각화 : 워드클라우드, 상위 단어의 빈도수를 이용한 시각화\r\n",
    "\r\n"
   ],
   "metadata": {}
  },
  {
   "cell_type": "code",
   "execution_count": null,
   "source": [],
   "outputs": [],
   "metadata": {}
  }
 ],
 "metadata": {
  "orig_nbformat": 4,
  "language_info": {
   "name": "python"
  }
 },
 "nbformat": 4,
 "nbformat_minor": 2
}