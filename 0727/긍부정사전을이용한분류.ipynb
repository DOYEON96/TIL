{
 "cells": [
  {
   "cell_type": "markdown",
   "source": [
    "### KNU 한국어 감성사전 - DI LAB\r\n",
    "참조 : http://dilab.kunsan.ac.kr/knusl.html"
   ],
   "metadata": {}
  },
  {
   "cell_type": "code",
   "execution_count": 1,
   "source": [
    "import json\r\n",
    "import pandas as pd\r\n",
    "from tqdm import tqdm"
   ],
   "outputs": [],
   "metadata": {}
  },
  {
   "cell_type": "code",
   "execution_count": 18,
   "source": [
    "SentiWord=pd.read_json('c:/pythonworkspace/multi/0727/data/SentiWord_info.json')\r\n",
    "SentiWord.to_csv('c:/pythonworkspace/multi/0727/data/SentiWord_info.csv', index = False)"
   ],
   "outputs": [],
   "metadata": {}
  },
  {
   "cell_type": "code",
   "execution_count": 19,
   "source": [
    "SentiWord = pd.read_csv('c:/pythonworkspace/multi/0727/data/SentiWord_info.csv')"
   ],
   "outputs": [],
   "metadata": {}
  },
  {
   "cell_type": "code",
   "execution_count": 34,
   "source": [
    "# word = '알쏭'\r\n",
    "\r\n",
    "def pos_neg(word):\r\n",
    "    tmp = SentiWord[(SentiWord['word']==word) | (SentiWord['word_root']==word)]\r\n",
    "    try:\r\n",
    "        word_res = (word, tmp['polarity'][tmp.index[0]])\r\n",
    "    except:\r\n",
    "        word_res = (word, 0)\r\n",
    "    return word_res"
   ],
   "outputs": [],
   "metadata": {}
  },
  {
   "cell_type": "code",
   "execution_count": 23,
   "source": [
    "df=pd.read_csv('c:/pythonworkspace/multi/0727/data/중앙일보_일본 올림픽.csv', encoding='cp949')\r\n",
    "txt = ''\r\n",
    "\r\n",
    "for i in df.index:\r\n",
    "    txt = txt + ' ' +str(df['상세내용'].loc[i])\r\n",
    "\r\n",
    "str(df['상세내용'].loc[0])"
   ],
   "outputs": [
    {
     "output_type": "execute_result",
     "data": {
      "text/plain": [
       "'     2021 도쿄올림픽 야구 대표팀이 지난 18일 고척돔에서 마스크를 착용하고 있다          도쿄올림픽 야구 대표팀이 평가전 일정을 최종 확정했다 상무키움과 차례대로 맞붙는다          는 21일 김경문 감독이 이끄는 2020 도쿄올림픽 대표팀의 최종 평가전 일정을 발표했다           대표팀은 23일 오후 6시 30분 상무 24일 오후 5시  25일 오후 2시 키움과 평가전을 치른다 세 경기 모두 고척돔에서 열린다           대표팀은 당초 10개 구단에서 뽑힌 라이징 스타와 23일 평가전을 갖고 는 24일 올스타전까지 치를 계획이었다 하지만 리그 내 신종 코로나바이러스 감염증코로나19 확산과 감염 위험 등 여러 사항을 고려해 일정을 취소했다          대신 대표팀의 경기력 유지를 위해 25일로 예정돼 있던 키움전 외에도 추가 평가전을 추진했다 결국 상무와 일정을 조율해 확정했다          대표팀은 세 차례 평가전에서 실전 감각을 끌어올린 후 26일 격전지 일본 도쿄로 출국한다              이형석 기자 '"
      ]
     },
     "metadata": {},
     "execution_count": 23
    }
   ],
   "metadata": {}
  },
  {
   "cell_type": "code",
   "execution_count": null,
   "source": [
    "from konlpy.tag import Okt\r\n",
    "okt = Okt()\r\n",
    "\r\n",
    "morph = okt.morphs(txt)\r\n",
    "# morph"
   ],
   "outputs": [],
   "metadata": {}
  },
  {
   "cell_type": "code",
   "execution_count": 35,
   "source": [
    "pos_lst=[]\r\n",
    "neg_lst=[]\r\n",
    "unknown_lst=[]\r\n",
    "\r\n",
    "for noun in tqdm(morph):\r\n",
    "    word_res = pos_neg(noun)\r\n",
    "    if word_res[1] > 0:\r\n",
    "        pos_lst.append(word_res[0])\r\n",
    "    elif word_res[1] < 0:\r\n",
    "        neg_lst.append(word_res[0])\r\n",
    "    else:\r\n",
    "        unknown_lst.append(word_res[0])"
   ],
   "outputs": [
    {
     "output_type": "stream",
     "name": "stderr",
     "text": [
      "100%|██████████| 26408/26408 [01:00<00:00, 437.74it/s]\n"
     ]
    }
   ],
   "metadata": {}
  },
  {
   "cell_type": "code",
   "execution_count": 30,
   "source": [
    "print('긍정 키워드 수 : ', len(pos_lst), '개')\r\n",
    "print('부정 키워드 수 : ', len(neg_lst), '개')\r\n",
    "print('중립 키워드 수 : ', len(unknown_lst), '개')"
   ],
   "outputs": [
    {
     "output_type": "stream",
     "name": "stdout",
     "text": [
      "긍정 키워드 수 :  1249 개\n",
      "부정 키워드 수 :  2538 개\n",
      "중립 키워드 수 :  22621 개\n"
     ]
    }
   ],
   "metadata": {}
  },
  {
   "cell_type": "code",
   "execution_count": null,
   "source": [],
   "outputs": [],
   "metadata": {}
  },
  {
   "cell_type": "code",
   "execution_count": null,
   "source": [
    "from collections import Counter\r\n",
    "\r\n",
    "pos_count = dict(Counter(pos_lst).most_common())\r\n",
    "pos_count"
   ],
   "outputs": [],
   "metadata": {}
  },
  {
   "cell_type": "code",
   "execution_count": 33,
   "source": [
    "SentiWord.loc[len(SentiWord)] = ['징용', '징용', -2]\r\n",
    "SentiWord.loc[len(SentiWord)] = ['합의', '합의', 1]\r\n",
    "SentiWord.tail()"
   ],
   "outputs": [
    {
     "output_type": "execute_result",
     "data": {
      "text/plain": [
       "         word word_root  polarity\n",
       "14841    알쏭하다       알쏭하        -1\n",
       "14842  알쏭달쏭하다      알쏭달쏭        -1\n",
       "14843      알쏭        알쏭        -1\n",
       "14844      징용        징용        -2\n",
       "14845      합의        합의         1"
      ],
      "text/html": [
       "<div>\n",
       "<style scoped>\n",
       "    .dataframe tbody tr th:only-of-type {\n",
       "        vertical-align: middle;\n",
       "    }\n",
       "\n",
       "    .dataframe tbody tr th {\n",
       "        vertical-align: top;\n",
       "    }\n",
       "\n",
       "    .dataframe thead th {\n",
       "        text-align: right;\n",
       "    }\n",
       "</style>\n",
       "<table border=\"1\" class=\"dataframe\">\n",
       "  <thead>\n",
       "    <tr style=\"text-align: right;\">\n",
       "      <th></th>\n",
       "      <th>word</th>\n",
       "      <th>word_root</th>\n",
       "      <th>polarity</th>\n",
       "    </tr>\n",
       "  </thead>\n",
       "  <tbody>\n",
       "    <tr>\n",
       "      <th>14841</th>\n",
       "      <td>알쏭하다</td>\n",
       "      <td>알쏭하</td>\n",
       "      <td>-1</td>\n",
       "    </tr>\n",
       "    <tr>\n",
       "      <th>14842</th>\n",
       "      <td>알쏭달쏭하다</td>\n",
       "      <td>알쏭달쏭</td>\n",
       "      <td>-1</td>\n",
       "    </tr>\n",
       "    <tr>\n",
       "      <th>14843</th>\n",
       "      <td>알쏭</td>\n",
       "      <td>알쏭</td>\n",
       "      <td>-1</td>\n",
       "    </tr>\n",
       "    <tr>\n",
       "      <th>14844</th>\n",
       "      <td>징용</td>\n",
       "      <td>징용</td>\n",
       "      <td>-2</td>\n",
       "    </tr>\n",
       "    <tr>\n",
       "      <th>14845</th>\n",
       "      <td>합의</td>\n",
       "      <td>합의</td>\n",
       "      <td>1</td>\n",
       "    </tr>\n",
       "  </tbody>\n",
       "</table>\n",
       "</div>"
      ]
     },
     "metadata": {},
     "execution_count": 33
    }
   ],
   "metadata": {}
  },
  {
   "cell_type": "code",
   "execution_count": 37,
   "source": [
    "stop_words = '로 것 와 당 명 위 신 사람 하기 뜻 점 순 타 보'\r\n",
    "stop_words = stop_words.split(' ')"
   ],
   "outputs": [],
   "metadata": {}
  },
  {
   "cell_type": "code",
   "execution_count": null,
   "source": [
    "tmp_dic = {}\r\n",
    "for key, value in pos_count.items():\r\n",
    "    if key not in stop_words:\r\n",
    "        tmp_dic[key]=value\r\n",
    "\r\n",
    "pos_count = tmp_dic\r\n",
    "# tmp_dic"
   ],
   "outputs": [],
   "metadata": {}
  },
  {
   "cell_type": "code",
   "execution_count": 39,
   "source": [
    "from wordcloud import WordCloud\r\n",
    "import matplotlib.pyplot as plt\r\n",
    "from PIL import Image\r\n",
    "import numpy as np\r\n"
   ],
   "outputs": [],
   "metadata": {}
  },
  {
   "cell_type": "code",
   "execution_count": 48,
   "source": [
    "### \r\n",
    "def color_func(**kawargs):\r\n",
    "    color = '#cb92f4'\r\n",
    "    return color"
   ],
   "outputs": [],
   "metadata": {}
  },
  {
   "cell_type": "code",
   "execution_count": 53,
   "source": [
    "img_path = 'c:/pythonworkspace/multi/0727/data/good.jpg'\r\n",
    "cloud_mask = np.array(Image.open(img_path))\r\n",
    "cloud_mask.shape"
   ],
   "outputs": [
    {
     "output_type": "execute_result",
     "data": {
      "text/plain": [
       "(789, 831, 3)"
      ]
     },
     "metadata": {},
     "execution_count": 53
    }
   ],
   "metadata": {}
  },
  {
   "cell_type": "code",
   "execution_count": 43,
   "source": [
    "img = Image.open(img_path)\r\n",
    "img.size"
   ],
   "outputs": [
    {
     "output_type": "execute_result",
     "data": {
      "text/plain": [
       "(831, 789)"
      ]
     },
     "metadata": {},
     "execution_count": 43
    }
   ],
   "metadata": {}
  },
  {
   "cell_type": "code",
   "execution_count": null,
   "source": [
    "wordcloud = WordCloud(font_path=\"c:/Windows/Fonts/malgun.ttf\",\r\n",
    "                      background_color=\"white\", mask=cloud_mask)\r\n",
    "\r\n",
    "wc = wordcloud.generate_from_frequencies(pos_count)\r\n",
    "\r\n",
    "plt.figure(figsize=(10,15))\r\n",
    "plt.imshow(wc.recolor(color_func=color_func), interpolation='bilinear')\r\n",
    "plt.axis(\"off\")\r\n",
    "plt.show()\r\n"
   ],
   "outputs": [],
   "metadata": {}
  },
  {
   "cell_type": "code",
   "execution_count": null,
   "source": [],
   "outputs": [],
   "metadata": {}
  },
  {
   "cell_type": "code",
   "execution_count": null,
   "source": [],
   "outputs": [],
   "metadata": {}
  }
 ],
 "metadata": {
  "orig_nbformat": 4,
  "language_info": {
   "name": "python",
   "version": "3.8.7",
   "mimetype": "text/x-python",
   "codemirror_mode": {
    "name": "ipython",
    "version": 3
   },
   "pygments_lexer": "ipython3",
   "nbconvert_exporter": "python",
   "file_extension": ".py"
  },
  "kernelspec": {
   "name": "python3",
   "display_name": "Python 3.8.7 64-bit"
  },
  "interpreter": {
   "hash": "2db524e06e9f5f4ffedc911c917cb75e12dbc923643829bf417064a77eb14d37"
  }
 },
 "nbformat": 4,
 "nbformat_minor": 2
}