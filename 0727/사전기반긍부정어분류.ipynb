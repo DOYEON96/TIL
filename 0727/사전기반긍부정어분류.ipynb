{
 "cells": [
  {
   "cell_type": "code",
   "execution_count": null,
   "source": [],
   "outputs": [],
   "metadata": {}
  },
  {
   "cell_type": "markdown",
   "source": [
    "### TextBlob\r\n",
    "- 익숙한 인터페이스를 통해 일반적인 텍스트 처리 작업에 대한 액세스를 제공\r\n",
    "- TextBlob 객체를 자연어 처리를 수행하는 방법을 학습한 Python 문자열인 것처럼 처리할 수 있다.\r\n"
   ],
   "metadata": {}
  },
  {
   "cell_type": "code",
   "execution_count": null,
   "source": [
    "# !pip install textblob"
   ],
   "outputs": [],
   "metadata": {}
  },
  {
   "cell_type": "code",
   "execution_count": 2,
   "source": [
    "from textblob import TextBlob as tb\r\n",
    "import nltk\r\n",
    "import pandas as pd\r\n"
   ],
   "outputs": [],
   "metadata": {}
  },
  {
   "cell_type": "code",
   "execution_count": 3,
   "source": [
    "txt1=tb('맥주가 좋았습니다.')\r\n",
    "txt2=tb('Beer was good.')\r\n"
   ],
   "outputs": [],
   "metadata": {}
  },
  {
   "cell_type": "code",
   "execution_count": 4,
   "source": [
    "#### TextBlob를 이용한 언어 확인\r\n",
    "print('txt1 : ', txt1.detect_language())\r\n",
    "print('txt2 : ', txt2.detect_language())\r\n"
   ],
   "outputs": [
    {
     "output_type": "stream",
     "name": "stdout",
     "text": [
      "txt1 :  ko\n",
      "txt2 :  en\n"
     ]
    }
   ],
   "metadata": {}
  },
  {
   "cell_type": "code",
   "execution_count": 5,
   "source": [
    "#### TextBlob를 이용한 언어 번역\r\n",
    "print(txt1.translate(to='en'))\r\n",
    "print(txt2.translate(to='ja'))\r\n"
   ],
   "outputs": [
    {
     "output_type": "stream",
     "name": "stdout",
     "text": [
      "Beer was good.\n",
      "ビールは良かった。\n"
     ]
    }
   ],
   "metadata": {}
  },
  {
   "cell_type": "markdown",
   "source": [
    "### 영어 문자 감정(긍/부정) 분류\r\n",
    "- 긍정 및 부정 문장을 먼저 학습하고 이후 데이터에 대하여 긍/부정 분석\r\n",
    "- 학습세트 / 테스트세트 \r\n",
    "- 참조 : https://excelsior-cjh.tistory.com/45"
   ],
   "metadata": {}
  },
  {
   "cell_type": "code",
   "execution_count": 6,
   "source": [
    "from textblob.classifiers import NaiveBayesClassifier\r\n"
   ],
   "outputs": [],
   "metadata": {}
  },
  {
   "cell_type": "code",
   "execution_count": 7,
   "source": [
    "## 학습세트 제작\r\n",
    "train = [('I love this sandwich.', 'pos'),\r\n",
    "         ('This is an amazing place!', 'pos'),\r\n",
    "         ('I feel very good about these beers.', 'pos'),\r\n",
    "         ('This is my best work.', 'pos'),\r\n",
    "         (\"What an awesome view\", 'pos'),\r\n",
    "         ('I do not like this restaurant', 'neg'),\r\n",
    "         ('I am tired of this stuff.', 'neg'),\r\n",
    "         (\"I can't deal with this\", 'neg'),\r\n",
    "         ('He is my sworn enemy!', 'neg'),\r\n",
    "         ('My boss is horrible.', 'neg')]\r\n"
   ],
   "outputs": [],
   "metadata": {}
  },
  {
   "cell_type": "code",
   "execution_count": 8,
   "source": [
    "## 테스트 세트\r\n",
    "test = [('The beer was good.', 'pos'),\r\n",
    "        ('I do not enjoy my job', 'neg'),\r\n",
    "        (\"I ain't feeling dandy today.\", 'neg'),\r\n",
    "        (\"I feel amazing!\", 'pos'),\r\n",
    "        ('Gary is a friend of mine.', 'pos'),\r\n",
    "        (\"I can't believe I'm doing this.\", 'neg')]\r\n"
   ],
   "outputs": [],
   "metadata": {}
  },
  {
   "cell_type": "code",
   "execution_count": 11,
   "source": [
    "## NaiveBayesClassifier 개체에 학습 데이터를 입력하고 긍정(pos)/부정(neg) 모델 생성\r\n",
    "pos_neg = NaiveBayesClassifier(train)\r\n",
    "pos_neg"
   ],
   "outputs": [
    {
     "output_type": "execute_result",
     "data": {
      "text/plain": [
       "<NaiveBayesClassifier trained on 10 instances>"
      ]
     },
     "metadata": {},
     "execution_count": 11
    }
   ],
   "metadata": {}
  },
  {
   "cell_type": "code",
   "execution_count": 13,
   "source": [
    "print(pos_neg.classify(\"The beer was good\"))\r\n",
    "print(pos_neg.classify(\"I do not like this restaurant\"))\r\n",
    "\r\n",
    "print(pos_neg.classify(\"Their burgers are amazing\"))\r\n",
    "print(pos_neg.classify(\"I don't like their pizza.\"))\r\n"
   ],
   "outputs": [
    {
     "output_type": "stream",
     "name": "stdout",
     "text": [
      "pos\n",
      "neg\n",
      "pos\n",
      "neg\n"
     ]
    }
   ],
   "metadata": {}
  },
  {
   "cell_type": "code",
   "execution_count": 15,
   "source": [
    "tag2 = tb(\"The beer was amazing. But the hangover was horrible. My boss was not happy.\",\r\n",
    "         classifier=pos_neg)\r\n",
    "\r\n",
    "print(tag2.classify())\r\n"
   ],
   "outputs": [
    {
     "output_type": "stream",
     "name": "stdout",
     "text": [
      "neg\n"
     ]
    }
   ],
   "metadata": {}
  },
  {
   "cell_type": "code",
   "execution_count": 16,
   "source": [
    "### tag2 입력한 문장을 분리해 긍정/부정 확인\r\n",
    "for sen in tag2.sentences:\r\n",
    "    print(sen, '/', sen.classify())"
   ],
   "outputs": [
    {
     "output_type": "stream",
     "name": "stdout",
     "text": [
      "The beer was amazing. / pos\n",
      "But the hangover was horrible. / neg\n",
      "My boss was not happy. / neg\n"
     ]
    }
   ],
   "metadata": {}
  },
  {
   "cell_type": "code",
   "execution_count": 17,
   "source": [
    "# 테스트 데이터를 이용해 전체 긍정/부정 테스트해 결과 확인\r\n",
    "test_acc=pos_neg.accuracy(test)\r\n",
    "print(test_acc)\r\n"
   ],
   "outputs": [
    {
     "output_type": "stream",
     "name": "stdout",
     "text": [
      "0.8333333333333334\n"
     ]
    }
   ],
   "metadata": {}
  },
  {
   "cell_type": "code",
   "execution_count": 18,
   "source": [
    "# show_informative_features를 실행하여 분류기가 어떤 기준으로 분류하는지 확인\r\n",
    "print(pos_neg.show_informative_features(10))\r\n"
   ],
   "outputs": [
    {
     "output_type": "stream",
     "name": "stdout",
     "text": [
      "Most Informative Features\n",
      "          contains(this) = True              neg : pos    =      2.3 : 1.0\n",
      "          contains(this) = False             pos : neg    =      1.8 : 1.0\n",
      "          contains(This) = False             neg : pos    =      1.6 : 1.0\n",
      "            contains(an) = False             neg : pos    =      1.6 : 1.0\n",
      "             contains(I) = False             pos : neg    =      1.4 : 1.0\n",
      "             contains(I) = True              neg : pos    =      1.4 : 1.0\n",
      "            contains(He) = False             pos : neg    =      1.2 : 1.0\n",
      "            contains(My) = False             pos : neg    =      1.2 : 1.0\n",
      "          contains(What) = False             neg : pos    =      1.2 : 1.0\n",
      "         contains(about) = False             neg : pos    =      1.2 : 1.0\n",
      "None\n"
     ]
    }
   ],
   "metadata": {}
  }
 ],
 "metadata": {
  "orig_nbformat": 4,
  "language_info": {
   "name": "python",
   "version": "3.8.7",
   "mimetype": "text/x-python",
   "codemirror_mode": {
    "name": "ipython",
    "version": 3
   },
   "pygments_lexer": "ipython3",
   "nbconvert_exporter": "python",
   "file_extension": ".py"
  },
  "kernelspec": {
   "name": "python3",
   "display_name": "Python 3.8.7 64-bit"
  },
  "interpreter": {
   "hash": "2db524e06e9f5f4ffedc911c917cb75e12dbc923643829bf417064a77eb14d37"
  }
 },
 "nbformat": 4,
 "nbformat_minor": 2
}