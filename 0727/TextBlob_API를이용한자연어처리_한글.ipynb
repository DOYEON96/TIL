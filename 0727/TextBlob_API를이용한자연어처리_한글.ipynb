{
 "cells": [
  {
   "cell_type": "code",
   "execution_count": 1,
   "source": [
    "from textblob import TextBlob as tb\r\n",
    "from textblob.classifiers import NaiveBayesClassifier\r\n"
   ],
   "outputs": [],
   "metadata": {}
  },
  {
   "cell_type": "code",
   "execution_count": 3,
   "source": [
    "train = [('나는 이 샌드위치를 정말 좋아해.', '긍정'),\r\n",
    "         ('정말 멋진 곳이에요!', '긍정'),\r\n",
    "         ('나는 이 맥주들이 아주 좋다고 생각해요.', '긍정'),\r\n",
    "         ('이것은 나의 최고의 작품입니다.', '긍정'),\r\n",
    "         (\"정말 멋진 광경이다\", \"긍정\"),\r\n",
    "         ('난 이 식당 싫어', '부정'),\r\n",
    "         ('난 이게 지겨워.', '부정'),\r\n",
    "         (\"이 문제는 처리할 수 없습니다.\", \"부정\"),\r\n",
    "         ('그는 나의 불구대천의 원수이다.', '부정'),\r\n",
    "         ('내 상사는 끔찍해.', '부정'),\r\n",
    "         ('나는 내 꿈을 믿는다', '긍정'),\r\n",
    "         ('나는 매일 최선을 다하고 있다', '긍정'),\r\n",
    "         ('나는 있는 그대로의 나를 사랑한다', '긍정'),\r\n",
    "         ('나는 내 삶을 100% 책임진다', '긍정'),\r\n",
    "         ('가장 좋은 일은 아직 생기지 않았다', '긍정'),\r\n",
    "         ('나는 매일 나의 삶에 감사한다', '긍정'),\r\n",
    "         ('새로나온 휴대폰은 배터리 교체가 되지 않아 불편하다', '부정'),\r\n",
    "         ('이번에 나온 영화 너무 재밌다. 주말에 또 보고 싶다.', '긍정'),\r\n",
    "         ('나의 아버지는 이해가 안된다', '부정'),\r\n",
    "         ('나는 어머니와 있을 때 퉁명해진다', '부정'),\r\n",
    "         ('나는 어머니와 있을 때 불편할 때가 있다.', '부정'),\r\n",
    "         ('치킨집에 선결제로 주문했는데 돈은 결제가 되었는데 치킨집에선 주문이 안들어왔다고합니다.', '부정'),\r\n",
    "         ('지금 현재 네이버 실시간 검색어에 떴고, 여전히 고객센터는 전화연결이 되지않습니다. ', '부정'),\r\n",
    "         ('이럴거면 요기요처럼 아예 접속도 안되게하던가 결제를 막았어야하는데', '부정'),\r\n",
    "         ('결제해서 가게에 돈 준 것도 아니고 본인들이 가져가놓고 전화도 안받으면 돈은 어떻게 돌려받습니까?', '부정'),\r\n",
    "         ('너무 유용하고 편리하네요.. ', '긍정'),\r\n",
    "         ('처음 구입한다고 쿠폰 받고 이용하니깐 저렴하게 먹을 수 있었고 배달시간도 만족스러워서 좋았습니다.', '긍정'),\r\n",
    "         ('배달의 민족 강추 합니다. ', '긍정'),\r\n",
    "         ('자주 이용할께요ㅡㅡㅡ강추 강추!!!', '긍정')\r\n",
    "         ]\r\n",
    "\r\n"
   ],
   "outputs": [],
   "metadata": {}
  },
  {
   "cell_type": "code",
   "execution_count": 4,
   "source": [
    "test = [('맥주가 좋았습니다.', '긍정'),\r\n",
    "        ('난 내 일을 즐기지 않는다', '부정'),\r\n",
    "        ('오늘은 기분이 안 좋아요.', '부정'),\r\n",
    "        ('빠른 배달 좋네요', '긍정'),\r\n",
    "        ('네드는 나의 친구입니다.', '긍정'),\r\n",
    "        ('제가 이렇게 하고 있다니 믿을 수가 없어요.', '부정')]\r\n"
   ],
   "outputs": [],
   "metadata": {}
  },
  {
   "cell_type": "code",
   "execution_count": 5,
   "source": [
    "pos_neg=NaiveBayesClassifier(train)\r\n",
    "pos_neg"
   ],
   "outputs": [
    {
     "output_type": "execute_result",
     "data": {
      "text/plain": [
       "<NaiveBayesClassifier trained on 29 instances>"
      ]
     },
     "metadata": {},
     "execution_count": 5
    }
   ],
   "metadata": {}
  },
  {
   "cell_type": "code",
   "execution_count": 7,
   "source": [
    "test_acc = pos_neg.accuracy(test)\r\n",
    "print(f'정확도 : {test_acc}')"
   ],
   "outputs": [
    {
     "output_type": "stream",
     "name": "stdout",
     "text": [
      "정확도 : 0.5\n"
     ]
    }
   ],
   "metadata": {}
  },
  {
   "cell_type": "code",
   "execution_count": 11,
   "source": [
    "for txt in test:\r\n",
    "    print(pos_neg.classify(txt[0]))"
   ],
   "outputs": [
    {
     "output_type": "stream",
     "name": "stdout",
     "text": [
      "긍정\n",
      "긍정\n",
      "긍정\n",
      "긍정\n",
      "긍정\n",
      "긍정\n"
     ]
    }
   ],
   "metadata": {}
  },
  {
   "cell_type": "code",
   "execution_count": 14,
   "source": [
    "# train 데이터의 텍스트를 형태소 분석하여 train_data를 생성\r\n",
    "from konlpy.tag import Okt\r\n",
    "okt = Okt()"
   ],
   "outputs": [],
   "metadata": {}
  },
  {
   "cell_type": "code",
   "execution_count": 17,
   "source": [
    "# train_data = [(['/'.join(token) for token in okt.pos(sen)], res) for [sen, res] in train]\r\n",
    "train_data = []\r\n",
    "for [sen, res] in train:\r\n",
    "    token_list=[]\r\n",
    "    for token in okt.pos(sen):\r\n",
    "        train_data.append(('/'.join(token), res))\r\n",
    "    train_data.append((token_list, res))\r\n",
    "\r\n",
    "# print(train_data)\r\n",
    "\r\n",
    "# test를 품사단위로 분류\r\n",
    "test_data = [(['/'.join(token) for token in okt.pos(sen)], res) for [sen, res] in test]\r\n",
    "print(test_data)"
   ],
   "outputs": [
    {
     "output_type": "stream",
     "name": "stdout",
     "text": [
      "[(['맥주/Noun', '가/Josa', '좋았습니다/Adjective', './Punctuation'], '긍정'), (['난/Noun', '내/Noun', '일/Noun', '을/Josa', '즐기지/Verb', '않는다/Verb'], '부정'), (['오늘/Noun', '은/Josa', '기분/Noun', '이/Josa', '안/Noun', '좋아요/Adjective', './Punctuation'], '부정'), (['빠른/Adjective', '배달/Noun', '좋네요/Adjective'], '긍정'), (['네/Noun', '드는/Verb', '나/Noun', '의/Josa', '친구/Noun', '입니다/Adjective', './Punctuation'], '긍정'), (['제/Noun', '가/Josa', '이렇게/Adverb', '하고/Verb', '있다니/Adjective', '믿을/Verb', '수가/Noun', '없어요/Adjective', './Punctuation'], '부정')]\n"
     ]
    }
   ],
   "metadata": {}
  },
  {
   "cell_type": "code",
   "execution_count": 19,
   "source": [
    "pos_neg = NaiveBayesClassifier(train_data)\r\n",
    "test_acc = pos_neg.accuracy(test_data)\r\n",
    "print(f'정확도 : {test_acc}')"
   ],
   "outputs": [
    {
     "output_type": "stream",
     "name": "stdout",
     "text": [
      "정확도 : 0.8333333333333334\n"
     ]
    }
   ],
   "metadata": {}
  }
 ],
 "metadata": {
  "orig_nbformat": 4,
  "language_info": {
   "name": "python",
   "version": "3.8.7",
   "mimetype": "text/x-python",
   "codemirror_mode": {
    "name": "ipython",
    "version": 3
   },
   "pygments_lexer": "ipython3",
   "nbconvert_exporter": "python",
   "file_extension": ".py"
  },
  "kernelspec": {
   "name": "python3",
   "display_name": "Python 3.8.7 64-bit"
  },
  "interpreter": {
   "hash": "2db524e06e9f5f4ffedc911c917cb75e12dbc923643829bf417064a77eb14d37"
  }
 },
 "nbformat": 4,
 "nbformat_minor": 2
}